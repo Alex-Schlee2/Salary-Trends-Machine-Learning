{
 "cells": [
  {
   "cell_type": "code",
   "execution_count": 1,
   "metadata": {},
   "outputs": [],
   "source": [
    "import pandas as pd\n",
    "import matplotlib.pyplot as plt\n",
    "import seaborn as sns\n",
    "%matplotlib inline"
   ]
  },
  {
   "cell_type": "code",
   "execution_count": 2,
   "metadata": {},
   "outputs": [],
   "source": [
    "df=pd.read_csv('Dataset 2- Modified_Dataset.csv',index_col=0 )"
   ]
  },
  {
   "cell_type": "code",
   "execution_count": 3,
   "metadata": {},
   "outputs": [],
   "source": [
    "# add C++ Skills afterwards\n",
    "df['C++_Skills']=df['Job_Description'].apply(lambda x: 1 if 'c++' in x.lower() or 'c ++' in x.lower() else 0)"
   ]
  },
  {
   "cell_type": "code",
   "execution_count": 4,
   "metadata": {},
   "outputs": [
    {
     "data": {
      "text/html": [
       "<div>\n",
       "<style scoped>\n",
       "    .dataframe tbody tr th:only-of-type {\n",
       "        vertical-align: middle;\n",
       "    }\n",
       "\n",
       "    .dataframe tbody tr th {\n",
       "        vertical-align: top;\n",
       "    }\n",
       "\n",
       "    .dataframe thead th {\n",
       "        text-align: right;\n",
       "    }\n",
       "</style>\n",
       "<table border=\"1\" class=\"dataframe\">\n",
       "  <thead>\n",
       "    <tr style=\"text-align: right;\">\n",
       "      <th></th>\n",
       "      <th>Job_title</th>\n",
       "      <th>Company_name</th>\n",
       "      <th>Location</th>\n",
       "      <th>Job_Description</th>\n",
       "      <th>Salary_Average in $</th>\n",
       "      <th>R_Skills</th>\n",
       "      <th>Java_Skills</th>\n",
       "      <th>SQL_Skills</th>\n",
       "      <th>Spark_Skills</th>\n",
       "      <th>Matlab_Skills</th>\n",
       "      <th>Tensorflow_Skills</th>\n",
       "      <th>NLP_Skills</th>\n",
       "      <th>Python_Skills</th>\n",
       "      <th>C++_Skills</th>\n",
       "    </tr>\n",
       "  </thead>\n",
       "  <tbody>\n",
       "    <tr>\n",
       "      <th>0</th>\n",
       "      <td>Apprentice Radiotherapy Engineer (Clinical Tec...</td>\n",
       "      <td>University Hospital Southampton NHS Foundation...</td>\n",
       "      <td>Southampton</td>\n",
       "      <td>This is an exciting opportunity to be an Appre...</td>\n",
       "      <td>23328.63</td>\n",
       "      <td>0</td>\n",
       "      <td>0</td>\n",
       "      <td>0</td>\n",
       "      <td>0</td>\n",
       "      <td>0</td>\n",
       "      <td>0</td>\n",
       "      <td>0</td>\n",
       "      <td>0</td>\n",
       "      <td>0</td>\n",
       "    </tr>\n",
       "    <tr>\n",
       "      <th>1</th>\n",
       "      <td>Machine Learning Engineer</td>\n",
       "      <td>Cyberlens Ltd.</td>\n",
       "      <td>London</td>\n",
       "      <td>Company: CyberLens Ltd (www.cyberlens.eu)\\nLoc...</td>\n",
       "      <td>62230.00</td>\n",
       "      <td>0</td>\n",
       "      <td>0</td>\n",
       "      <td>0</td>\n",
       "      <td>0</td>\n",
       "      <td>0</td>\n",
       "      <td>1</td>\n",
       "      <td>0</td>\n",
       "      <td>1</td>\n",
       "      <td>1</td>\n",
       "    </tr>\n",
       "    <tr>\n",
       "      <th>2</th>\n",
       "      <td>Deep Learning Engineer (Signal Processing)</td>\n",
       "      <td>Drone Defence</td>\n",
       "      <td>Retford</td>\n",
       "      <td>Are you a Deep Learning Engineer experienced w...</td>\n",
       "      <td>38100.00</td>\n",
       "      <td>0</td>\n",
       "      <td>0</td>\n",
       "      <td>0</td>\n",
       "      <td>0</td>\n",
       "      <td>0</td>\n",
       "      <td>1</td>\n",
       "      <td>0</td>\n",
       "      <td>1</td>\n",
       "      <td>0</td>\n",
       "    </tr>\n",
       "    <tr>\n",
       "      <th>3</th>\n",
       "      <td>Senior Machine Learning Engineer / Machine Lea...</td>\n",
       "      <td>Nucleome Therapeutics Ltd</td>\n",
       "      <td>Oxford</td>\n",
       "      <td>Job description\\nWe are looking for machine le...</td>\n",
       "      <td>59055.00</td>\n",
       "      <td>0</td>\n",
       "      <td>0</td>\n",
       "      <td>0</td>\n",
       "      <td>0</td>\n",
       "      <td>0</td>\n",
       "      <td>1</td>\n",
       "      <td>0</td>\n",
       "      <td>1</td>\n",
       "      <td>0</td>\n",
       "    </tr>\n",
       "    <tr>\n",
       "      <th>4</th>\n",
       "      <td>Senior Software Engineer</td>\n",
       "      <td>WCKD RZR</td>\n",
       "      <td>London</td>\n",
       "      <td>Are you a highly motivated Senior Software Eng...</td>\n",
       "      <td>73025.00</td>\n",
       "      <td>0</td>\n",
       "      <td>1</td>\n",
       "      <td>0</td>\n",
       "      <td>0</td>\n",
       "      <td>0</td>\n",
       "      <td>0</td>\n",
       "      <td>0</td>\n",
       "      <td>0</td>\n",
       "      <td>0</td>\n",
       "    </tr>\n",
       "  </tbody>\n",
       "</table>\n",
       "</div>"
      ],
      "text/plain": [
       "                                           Job_title  \\\n",
       "0  Apprentice Radiotherapy Engineer (Clinical Tec...   \n",
       "1                          Machine Learning Engineer   \n",
       "2         Deep Learning Engineer (Signal Processing)   \n",
       "3  Senior Machine Learning Engineer / Machine Lea...   \n",
       "4                           Senior Software Engineer   \n",
       "\n",
       "                                        Company_name     Location  \\\n",
       "0  University Hospital Southampton NHS Foundation...  Southampton   \n",
       "1                                     Cyberlens Ltd.       London   \n",
       "2                                      Drone Defence      Retford   \n",
       "3                          Nucleome Therapeutics Ltd       Oxford   \n",
       "4                                           WCKD RZR       London   \n",
       "\n",
       "                                     Job_Description  Salary_Average in $  \\\n",
       "0  This is an exciting opportunity to be an Appre...             23328.63   \n",
       "1  Company: CyberLens Ltd (www.cyberlens.eu)\\nLoc...             62230.00   \n",
       "2  Are you a Deep Learning Engineer experienced w...             38100.00   \n",
       "3  Job description\\nWe are looking for machine le...             59055.00   \n",
       "4  Are you a highly motivated Senior Software Eng...             73025.00   \n",
       "\n",
       "   R_Skills  Java_Skills  SQL_Skills  Spark_Skills  Matlab_Skills  \\\n",
       "0         0            0           0             0              0   \n",
       "1         0            0           0             0              0   \n",
       "2         0            0           0             0              0   \n",
       "3         0            0           0             0              0   \n",
       "4         0            1           0             0              0   \n",
       "\n",
       "   Tensorflow_Skills  NLP_Skills  Python_Skills  C++_Skills  \n",
       "0                  0           0              0           0  \n",
       "1                  1           0              1           1  \n",
       "2                  1           0              1           0  \n",
       "3                  1           0              1           0  \n",
       "4                  0           0              0           0  "
      ]
     },
     "execution_count": 4,
     "metadata": {},
     "output_type": "execute_result"
    }
   ],
   "source": [
    "df.head()"
   ]
  },
  {
   "cell_type": "code",
   "execution_count": 5,
   "metadata": {},
   "outputs": [
    {
     "data": {
      "text/plain": [
       "0    166\n",
       "1     41\n",
       "Name: C++_Skills, dtype: int64"
      ]
     },
     "execution_count": 5,
     "metadata": {},
     "output_type": "execute_result"
    }
   ],
   "source": [
    "df['C++_Skills'].value_counts()"
   ]
  },
  {
   "cell_type": "code",
   "execution_count": 6,
   "metadata": {},
   "outputs": [
    {
     "data": {
      "text/plain": [
       "Index(['Job_title', 'Company_name', 'Location', 'Job_Description',\n",
       "       'Salary_Average in $', 'R_Skills', 'Java_Skills', 'SQL_Skills',\n",
       "       'Spark_Skills', 'Matlab_Skills', 'Tensorflow_Skills', 'NLP_Skills',\n",
       "       'Python_Skills', 'C++_Skills'],\n",
       "      dtype='object')"
      ]
     },
     "execution_count": 6,
     "metadata": {},
     "output_type": "execute_result"
    }
   ],
   "source": [
    "df.columns"
   ]
  },
  {
   "cell_type": "code",
   "execution_count": 7,
   "metadata": {},
   "outputs": [],
   "source": [
    "#change column order \n",
    "df=df[['Salary_Average in $', 'Job_title', 'Company_name', 'Location', 'Job_Description',\n",
    "      'R_Skills', 'Java_Skills', 'SQL_Skills', 'Spark_Skills', 'Matlab_Skills', 'Tensorflow_Skills', \n",
    "      'NLP_Skills', 'Python_Skills']]"
   ]
  },
  {
   "cell_type": "code",
   "execution_count": 8,
   "metadata": {},
   "outputs": [
    {
     "data": {
      "text/html": [
       "<div>\n",
       "<style scoped>\n",
       "    .dataframe tbody tr th:only-of-type {\n",
       "        vertical-align: middle;\n",
       "    }\n",
       "\n",
       "    .dataframe tbody tr th {\n",
       "        vertical-align: top;\n",
       "    }\n",
       "\n",
       "    .dataframe thead th {\n",
       "        text-align: right;\n",
       "    }\n",
       "</style>\n",
       "<table border=\"1\" class=\"dataframe\">\n",
       "  <thead>\n",
       "    <tr style=\"text-align: right;\">\n",
       "      <th></th>\n",
       "      <th>Salary_Average in $</th>\n",
       "      <th>Job_title</th>\n",
       "      <th>Company_name</th>\n",
       "      <th>Location</th>\n",
       "      <th>Job_Description</th>\n",
       "      <th>R_Skills</th>\n",
       "      <th>Java_Skills</th>\n",
       "      <th>SQL_Skills</th>\n",
       "      <th>Spark_Skills</th>\n",
       "      <th>Matlab_Skills</th>\n",
       "      <th>Tensorflow_Skills</th>\n",
       "      <th>NLP_Skills</th>\n",
       "      <th>Python_Skills</th>\n",
       "    </tr>\n",
       "  </thead>\n",
       "  <tbody>\n",
       "    <tr>\n",
       "      <th>0</th>\n",
       "      <td>23328.63</td>\n",
       "      <td>Apprentice Radiotherapy Engineer (Clinical Tec...</td>\n",
       "      <td>University Hospital Southampton NHS Foundation...</td>\n",
       "      <td>Southampton</td>\n",
       "      <td>This is an exciting opportunity to be an Appre...</td>\n",
       "      <td>0</td>\n",
       "      <td>0</td>\n",
       "      <td>0</td>\n",
       "      <td>0</td>\n",
       "      <td>0</td>\n",
       "      <td>0</td>\n",
       "      <td>0</td>\n",
       "      <td>0</td>\n",
       "    </tr>\n",
       "    <tr>\n",
       "      <th>1</th>\n",
       "      <td>62230.00</td>\n",
       "      <td>Machine Learning Engineer</td>\n",
       "      <td>Cyberlens Ltd.</td>\n",
       "      <td>London</td>\n",
       "      <td>Company: CyberLens Ltd (www.cyberlens.eu)\\nLoc...</td>\n",
       "      <td>0</td>\n",
       "      <td>0</td>\n",
       "      <td>0</td>\n",
       "      <td>0</td>\n",
       "      <td>0</td>\n",
       "      <td>1</td>\n",
       "      <td>0</td>\n",
       "      <td>1</td>\n",
       "    </tr>\n",
       "    <tr>\n",
       "      <th>2</th>\n",
       "      <td>38100.00</td>\n",
       "      <td>Deep Learning Engineer (Signal Processing)</td>\n",
       "      <td>Drone Defence</td>\n",
       "      <td>Retford</td>\n",
       "      <td>Are you a Deep Learning Engineer experienced w...</td>\n",
       "      <td>0</td>\n",
       "      <td>0</td>\n",
       "      <td>0</td>\n",
       "      <td>0</td>\n",
       "      <td>0</td>\n",
       "      <td>1</td>\n",
       "      <td>0</td>\n",
       "      <td>1</td>\n",
       "    </tr>\n",
       "    <tr>\n",
       "      <th>3</th>\n",
       "      <td>59055.00</td>\n",
       "      <td>Senior Machine Learning Engineer / Machine Lea...</td>\n",
       "      <td>Nucleome Therapeutics Ltd</td>\n",
       "      <td>Oxford</td>\n",
       "      <td>Job description\\nWe are looking for machine le...</td>\n",
       "      <td>0</td>\n",
       "      <td>0</td>\n",
       "      <td>0</td>\n",
       "      <td>0</td>\n",
       "      <td>0</td>\n",
       "      <td>1</td>\n",
       "      <td>0</td>\n",
       "      <td>1</td>\n",
       "    </tr>\n",
       "    <tr>\n",
       "      <th>4</th>\n",
       "      <td>73025.00</td>\n",
       "      <td>Senior Software Engineer</td>\n",
       "      <td>WCKD RZR</td>\n",
       "      <td>London</td>\n",
       "      <td>Are you a highly motivated Senior Software Eng...</td>\n",
       "      <td>0</td>\n",
       "      <td>1</td>\n",
       "      <td>0</td>\n",
       "      <td>0</td>\n",
       "      <td>0</td>\n",
       "      <td>0</td>\n",
       "      <td>0</td>\n",
       "      <td>0</td>\n",
       "    </tr>\n",
       "  </tbody>\n",
       "</table>\n",
       "</div>"
      ],
      "text/plain": [
       "   Salary_Average in $                                          Job_title  \\\n",
       "0             23328.63  Apprentice Radiotherapy Engineer (Clinical Tec...   \n",
       "1             62230.00                          Machine Learning Engineer   \n",
       "2             38100.00         Deep Learning Engineer (Signal Processing)   \n",
       "3             59055.00  Senior Machine Learning Engineer / Machine Lea...   \n",
       "4             73025.00                           Senior Software Engineer   \n",
       "\n",
       "                                        Company_name     Location  \\\n",
       "0  University Hospital Southampton NHS Foundation...  Southampton   \n",
       "1                                     Cyberlens Ltd.       London   \n",
       "2                                      Drone Defence      Retford   \n",
       "3                          Nucleome Therapeutics Ltd       Oxford   \n",
       "4                                           WCKD RZR       London   \n",
       "\n",
       "                                     Job_Description  R_Skills  Java_Skills  \\\n",
       "0  This is an exciting opportunity to be an Appre...         0            0   \n",
       "1  Company: CyberLens Ltd (www.cyberlens.eu)\\nLoc...         0            0   \n",
       "2  Are you a Deep Learning Engineer experienced w...         0            0   \n",
       "3  Job description\\nWe are looking for machine le...         0            0   \n",
       "4  Are you a highly motivated Senior Software Eng...         0            1   \n",
       "\n",
       "   SQL_Skills  Spark_Skills  Matlab_Skills  Tensorflow_Skills  NLP_Skills  \\\n",
       "0           0             0              0                  0           0   \n",
       "1           0             0              0                  1           0   \n",
       "2           0             0              0                  1           0   \n",
       "3           0             0              0                  1           0   \n",
       "4           0             0              0                  0           0   \n",
       "\n",
       "   Python_Skills  \n",
       "0              0  \n",
       "1              1  \n",
       "2              1  \n",
       "3              1  \n",
       "4              0  "
      ]
     },
     "execution_count": 8,
     "metadata": {},
     "output_type": "execute_result"
    }
   ],
   "source": [
    "df.head()"
   ]
  },
  {
   "cell_type": "markdown",
   "metadata": {},
   "source": [
    "## Exploratory Data Analysis"
   ]
  },
  {
   "cell_type": "raw",
   "metadata": {},
   "source": [
    "Histogram Salary\n",
    "Histogram Top 5 cities barplot\n",
    "Histogram top 5 Companies\n",
    "Pie charts with skills"
   ]
  },
  {
   "cell_type": "code",
   "execution_count": 29,
   "metadata": {},
   "outputs": [
    {
     "data": {
      "text/plain": [
       "<matplotlib.axes._subplots.AxesSubplot at 0x1d152280>"
      ]
     },
     "execution_count": 29,
     "metadata": {},
     "output_type": "execute_result"
    },
    {
     "data": {
      "image/png": "[encoded data removed]",
      "text/plain": [
       "<Figure size 432x288 with 1 Axes>"
      ]
     },
     "metadata": {
      "needs_background": "light"
     },
     "output_type": "display_data"
    }
   ],
   "source": [
    "sns.distplot(df['Salary_Average in $'],color='g')"
   ]
  },
  {
   "cell_type": "code",
   "execution_count": 35,
   "metadata": {},
   "outputs": [
    {
     "data": {
      "text/plain": [
       "London        105\n",
       "Cambridge      28\n",
       "Bristol         6\n",
       "Birmingham      4\n",
       "Oxford          4\n",
       "Manchester      3\n",
       "Leeds           3\n",
       "West            2\n",
       "Didcot          2\n",
       "Name: Location, dtype: int64"
      ]
     },
     "execution_count": 35,
     "metadata": {},
     "output_type": "execute_result"
    }
   ],
   "source": [
    "df['Location'].value_counts()[0:9]"
   ]
  },
  {
   "cell_type": "code",
   "execution_count": 88,
   "metadata": {},
   "outputs": [
    {
     "data": {
      "image/png": "[encoded data removed]",
      "text/plain": [
       "<Figure size 432x288 with 1 Axes>"
      ]
     },
     "metadata": {},
     "output_type": "display_data"
    }
   ],
   "source": [
    "#top 5 cities\n",
    "loc_num=df['Location'].value_counts()[0:5]\n",
    "\n",
    "loc_name=loc_num.index\n",
    "sns.barplot(x=loc_num, y=loc_name, palette='Set2')\n",
    "plt.title('Top 5 Cities')\n",
    "\n",
    "sns.set(style='whitegrid', )\n"
   ]
  },
  {
   "cell_type": "code",
   "execution_count": 93,
   "metadata": {},
   "outputs": [
    {
     "data": {
      "image/png": "[encoded data removed]",
      "text/plain": [
       "<Figure size 432x288 with 1 Axes>"
      ]
     },
     "metadata": {},
     "output_type": "display_data"
    }
   ],
   "source": [
    "#top 5 companies\n",
    "loc_num=df['Company_name'].value_counts()[0:5]\n",
    "\n",
    "loc_name=loc_num.index\n",
    "sns.barplot(x=loc_num, y=loc_name, palette='coolwarm')\n",
    "plt.title('Top 5 Companies')\n",
    "\n",
    "sns.set(style='whitegrid', )\n"
   ]
  },
  {
   "cell_type": "code",
   "execution_count": 99,
   "metadata": {},
   "outputs": [
    {
     "data": {
      "text/html": [
       "<div>\n",
       "<style scoped>\n",
       "    .dataframe tbody tr th:only-of-type {\n",
       "        vertical-align: middle;\n",
       "    }\n",
       "\n",
       "    .dataframe tbody tr th {\n",
       "        vertical-align: top;\n",
       "    }\n",
       "\n",
       "    .dataframe thead th {\n",
       "        text-align: right;\n",
       "    }\n",
       "</style>\n",
       "<table border=\"1\" class=\"dataframe\">\n",
       "  <thead>\n",
       "    <tr style=\"text-align: right;\">\n",
       "      <th></th>\n",
       "      <th>Salary_Average in $</th>\n",
       "    </tr>\n",
       "    <tr>\n",
       "      <th>Location</th>\n",
       "      <th></th>\n",
       "    </tr>\n",
       "  </thead>\n",
       "  <tbody>\n",
       "    <tr>\n",
       "      <th>Portsmouth</th>\n",
       "      <td>146685.000000</td>\n",
       "    </tr>\n",
       "    <tr>\n",
       "      <th>Slough</th>\n",
       "      <td>125730.000000</td>\n",
       "    </tr>\n",
       "    <tr>\n",
       "      <th>London</th>\n",
       "      <td>100002.962905</td>\n",
       "    </tr>\n",
       "    <tr>\n",
       "      <th>Gloucestershire</th>\n",
       "      <td>95250.000000</td>\n",
       "    </tr>\n",
       "    <tr>\n",
       "      <th>West</th>\n",
       "      <td>92392.500000</td>\n",
       "    </tr>\n",
       "    <tr>\n",
       "      <th>Leatherhead</th>\n",
       "      <td>82550.000000</td>\n",
       "    </tr>\n",
       "    <tr>\n",
       "      <th>Welwyn</th>\n",
       "      <td>82550.000000</td>\n",
       "    </tr>\n",
       "    <tr>\n",
       "      <th>Berkshire</th>\n",
       "      <td>79375.000000</td>\n",
       "    </tr>\n",
       "    <tr>\n",
       "      <th>Cambridge</th>\n",
       "      <td>78433.839286</td>\n",
       "    </tr>\n",
       "    <tr>\n",
       "      <th>Reigate</th>\n",
       "      <td>76200.000000</td>\n",
       "    </tr>\n",
       "    <tr>\n",
       "      <th>Greater</th>\n",
       "      <td>76200.000000</td>\n",
       "    </tr>\n",
       "    <tr>\n",
       "      <th>Bristol</th>\n",
       "      <td>75670.833333</td>\n",
       "    </tr>\n",
       "    <tr>\n",
       "      <th>Manchester</th>\n",
       "      <td>74506.666667</td>\n",
       "    </tr>\n",
       "    <tr>\n",
       "      <th>Oxford</th>\n",
       "      <td>72390.000000</td>\n",
       "    </tr>\n",
       "    <tr>\n",
       "      <th>Guildford</th>\n",
       "      <td>69850.000000</td>\n",
       "    </tr>\n",
       "    <tr>\n",
       "      <th>Sheffield</th>\n",
       "      <td>69850.000000</td>\n",
       "    </tr>\n",
       "    <tr>\n",
       "      <th>Stratford-upon-Avon</th>\n",
       "      <td>66675.000000</td>\n",
       "    </tr>\n",
       "    <tr>\n",
       "      <th>Norwich</th>\n",
       "      <td>66675.000000</td>\n",
       "    </tr>\n",
       "    <tr>\n",
       "      <th>Birmingham</th>\n",
       "      <td>65881.250000</td>\n",
       "    </tr>\n",
       "    <tr>\n",
       "      <th>Bolton</th>\n",
       "      <td>64452.500000</td>\n",
       "    </tr>\n",
       "    <tr>\n",
       "      <th>Salford</th>\n",
       "      <td>63500.000000</td>\n",
       "    </tr>\n",
       "    <tr>\n",
       "      <th>Bath</th>\n",
       "      <td>63500.000000</td>\n",
       "    </tr>\n",
       "    <tr>\n",
       "      <th>Reading</th>\n",
       "      <td>61912.500000</td>\n",
       "    </tr>\n",
       "    <tr>\n",
       "      <th>Oxfordshire</th>\n",
       "      <td>58102.500000</td>\n",
       "    </tr>\n",
       "    <tr>\n",
       "      <th>Fareham</th>\n",
       "      <td>57150.000000</td>\n",
       "    </tr>\n",
       "    <tr>\n",
       "      <th>Malvern</th>\n",
       "      <td>57150.000000</td>\n",
       "    </tr>\n",
       "    <tr>\n",
       "      <th>Leeds</th>\n",
       "      <td>55668.333333</td>\n",
       "    </tr>\n",
       "    <tr>\n",
       "      <th>Ipswich</th>\n",
       "      <td>53975.000000</td>\n",
       "    </tr>\n",
       "    <tr>\n",
       "      <th>Cannock</th>\n",
       "      <td>52070.000000</td>\n",
       "    </tr>\n",
       "    <tr>\n",
       "      <th>Wymondham</th>\n",
       "      <td>50800.000000</td>\n",
       "    </tr>\n",
       "    <tr>\n",
       "      <th>Hemel</th>\n",
       "      <td>50800.000000</td>\n",
       "    </tr>\n",
       "    <tr>\n",
       "      <th>Surrey</th>\n",
       "      <td>50800.000000</td>\n",
       "    </tr>\n",
       "    <tr>\n",
       "      <th>Nottingham</th>\n",
       "      <td>50411.380000</td>\n",
       "    </tr>\n",
       "    <tr>\n",
       "      <th>Stevenage</th>\n",
       "      <td>49530.000000</td>\n",
       "    </tr>\n",
       "    <tr>\n",
       "      <th>Bradford</th>\n",
       "      <td>47625.000000</td>\n",
       "    </tr>\n",
       "    <tr>\n",
       "      <th>North</th>\n",
       "      <td>45720.000000</td>\n",
       "    </tr>\n",
       "    <tr>\n",
       "      <th>York</th>\n",
       "      <td>44450.000000</td>\n",
       "    </tr>\n",
       "    <tr>\n",
       "      <th>Loughborough</th>\n",
       "      <td>43180.000000</td>\n",
       "    </tr>\n",
       "    <tr>\n",
       "      <th>Derby</th>\n",
       "      <td>42545.000000</td>\n",
       "    </tr>\n",
       "    <tr>\n",
       "      <th>Sidcup</th>\n",
       "      <td>40640.000000</td>\n",
       "    </tr>\n",
       "    <tr>\n",
       "      <th>Desborough</th>\n",
       "      <td>40640.000000</td>\n",
       "    </tr>\n",
       "    <tr>\n",
       "      <th>Retford</th>\n",
       "      <td>38100.000000</td>\n",
       "    </tr>\n",
       "    <tr>\n",
       "      <th>Uckfield</th>\n",
       "      <td>38100.000000</td>\n",
       "    </tr>\n",
       "    <tr>\n",
       "      <th>Farnborough</th>\n",
       "      <td>33655.000000</td>\n",
       "    </tr>\n",
       "    <tr>\n",
       "      <th>Redruth</th>\n",
       "      <td>28849.320000</td>\n",
       "    </tr>\n",
       "    <tr>\n",
       "      <th>Lichfield</th>\n",
       "      <td>28575.000000</td>\n",
       "    </tr>\n",
       "    <tr>\n",
       "      <th>Leicester</th>\n",
       "      <td>27940.000000</td>\n",
       "    </tr>\n",
       "    <tr>\n",
       "      <th>Southampton</th>\n",
       "      <td>23328.630000</td>\n",
       "    </tr>\n",
       "    <tr>\n",
       "      <th>Didcot</th>\n",
       "      <td>16520.477500</td>\n",
       "    </tr>\n",
       "    <tr>\n",
       "      <th>Salisbury</th>\n",
       "      <td>16510.000000</td>\n",
       "    </tr>\n",
       "  </tbody>\n",
       "</table>\n",
       "</div>"
      ],
      "text/plain": [
       "                     Salary_Average in $\n",
       "Location                                \n",
       "Portsmouth                 146685.000000\n",
       "Slough                     125730.000000\n",
       "London                     100002.962905\n",
       "Gloucestershire             95250.000000\n",
       "West                        92392.500000\n",
       "Leatherhead                 82550.000000\n",
       "Welwyn                      82550.000000\n",
       "Berkshire                   79375.000000\n",
       "Cambridge                   78433.839286\n",
       "Reigate                     76200.000000\n",
       "Greater                     76200.000000\n",
       "Bristol                     75670.833333\n",
       "Manchester                  74506.666667\n",
       "Oxford                      72390.000000\n",
       "Guildford                   69850.000000\n",
       "Sheffield                   69850.000000\n",
       "Stratford-upon-Avon         66675.000000\n",
       "Norwich                     66675.000000\n",
       "Birmingham                  65881.250000\n",
       "Bolton                      64452.500000\n",
       "Salford                     63500.000000\n",
       "Bath                        63500.000000\n",
       "Reading                     61912.500000\n",
       "Oxfordshire                 58102.500000\n",
       "Fareham                     57150.000000\n",
       "Malvern                     57150.000000\n",
       "Leeds                       55668.333333\n",
       "Ipswich                     53975.000000\n",
       "Cannock                     52070.000000\n",
       "Wymondham                   50800.000000\n",
       "Hemel                       50800.000000\n",
       "Surrey                      50800.000000\n",
       "Nottingham                  50411.380000\n",
       "Stevenage                   49530.000000\n",
       "Bradford                    47625.000000\n",
       "North                       45720.000000\n",
       "York                        44450.000000\n",
       "Loughborough                43180.000000\n",
       "Derby                       42545.000000\n",
       "Sidcup                      40640.000000\n",
       "Desborough                  40640.000000\n",
       "Retford                     38100.000000\n",
       "Uckfield                    38100.000000\n",
       "Farnborough                 33655.000000\n",
       "Redruth                     28849.320000\n",
       "Lichfield                   28575.000000\n",
       "Leicester                   27940.000000\n",
       "Southampton                 23328.630000\n",
       "Didcot                      16520.477500\n",
       "Salisbury                   16510.000000"
      ]
     },
     "execution_count": 99,
     "metadata": {},
     "output_type": "execute_result"
    }
   ],
   "source": [
    "pd.pivot_table(df, index=['Location'], values='Salary_Average in $').sort_values ('Salary_Average in $', ascending=False)"
   ]
  },
  {
   "cell_type": "code",
   "execution_count": 114,
   "metadata": {},
   "outputs": [
    {
     "data": {
      "text/plain": [
       "Index(['Salary_Average in $', 'Job_title', 'Company_name', 'Location',\n",
       "       'Job_Description', 'R_Skills', 'Java_Skills', 'SQL_Skills',\n",
       "       'Spark_Skills', 'Matlab_Skills', 'Tensorflow_Skills', 'NLP_Skills',\n",
       "       'Python_Skills', 'C++_Skills'],\n",
       "      dtype='object')"
      ]
     },
     "execution_count": 114,
     "metadata": {},
     "output_type": "execute_result"
    }
   ],
   "source": [
    "df.columns"
   ]
  },
  {
   "cell_type": "code",
   "execution_count": 113,
   "metadata": {},
   "outputs": [
    {
     "data": {
      "text/plain": [
       "1    123\n",
       "0     84\n",
       "Name: Python_Skills, dtype: int64"
      ]
     },
     "execution_count": 113,
     "metadata": {},
     "output_type": "execute_result"
    }
   ],
   "source": [
    "#top 1 skill\n",
    "df['Python_Skills'].value_counts()"
   ]
  },
  {
   "cell_type": "code",
   "execution_count": 115,
   "metadata": {},
   "outputs": [
    {
     "data": {
      "text/plain": [
       "0    202\n",
       "1      5\n",
       "Name: R_Skills, dtype: int64"
      ]
     },
     "execution_count": 115,
     "metadata": {},
     "output_type": "execute_result"
    }
   ],
   "source": [
    "df['R_Skills'].value_counts()"
   ]
  },
  {
   "cell_type": "code",
   "execution_count": 116,
   "metadata": {},
   "outputs": [
    {
     "data": {
      "text/plain": [
       "0    185\n",
       "1     22\n",
       "Name: Tensorflow_Skills, dtype: int64"
      ]
     },
     "execution_count": 116,
     "metadata": {},
     "output_type": "execute_result"
    }
   ],
   "source": [
    "df['Tensorflow_Skills'].value_counts()"
   ]
  },
  {
   "cell_type": "code",
   "execution_count": 126,
   "metadata": {},
   "outputs": [
    {
     "data": {
      "text/plain": [
       "0    159\n",
       "1     48\n",
       "Name: SQL_Skills, dtype: int64"
      ]
     },
     "execution_count": 126,
     "metadata": {},
     "output_type": "execute_result"
    }
   ],
   "source": [
    "# top 3 skill\n",
    "df['SQL_Skills'].value_counts()"
   ]
  },
  {
   "cell_type": "code",
   "execution_count": 120,
   "metadata": {},
   "outputs": [
    {
     "data": {
      "text/plain": [
       "0    191\n",
       "1     16\n",
       "Name: NLP_Skills, dtype: int64"
      ]
     },
     "execution_count": 120,
     "metadata": {},
     "output_type": "execute_result"
    }
   ],
   "source": [
    "df['NLP_Skills'].value_counts()"
   ]
  },
  {
   "cell_type": "code",
   "execution_count": 121,
   "metadata": {},
   "outputs": [
    {
     "data": {
      "text/plain": [
       "0    166\n",
       "1     41\n",
       "Name: C++_Skills, dtype: int64"
      ]
     },
     "execution_count": 121,
     "metadata": {},
     "output_type": "execute_result"
    }
   ],
   "source": [
    "df['C++_Skills'].value_counts()"
   ]
  },
  {
   "cell_type": "code",
   "execution_count": 122,
   "metadata": {},
   "outputs": [
    {
     "data": {
      "text/plain": [
       "0    202\n",
       "1      5\n",
       "Name: Matlab_Skills, dtype: int64"
      ]
     },
     "execution_count": 122,
     "metadata": {},
     "output_type": "execute_result"
    }
   ],
   "source": [
    "df['Matlab_Skills'].value_counts()"
   ]
  },
  {
   "cell_type": "code",
   "execution_count": 124,
   "metadata": {},
   "outputs": [
    {
     "data": {
      "text/plain": [
       "0    144\n",
       "1     63\n",
       "Name: Java_Skills, dtype: int64"
      ]
     },
     "execution_count": 124,
     "metadata": {},
     "output_type": "execute_result"
    }
   ],
   "source": [
    "#top 2 skill\n",
    "df['Java_Skills'].value_counts()"
   ]
  },
  {
   "cell_type": "code",
   "execution_count": 125,
   "metadata": {},
   "outputs": [
    {
     "data": {
      "text/plain": [
       "0    180\n",
       "1     27\n",
       "Name: Spark_Skills, dtype: int64"
      ]
     },
     "execution_count": 125,
     "metadata": {},
     "output_type": "execute_result"
    }
   ],
   "source": [
    "df['Spark_Skills'].value_counts()"
   ]
  },
  {
   "cell_type": "code",
   "execution_count": 194,
   "metadata": {},
   "outputs": [
    {
     "data": {
      "text/plain": [
       "([<matplotlib.patches.Wedge at 0x23f42130>,\n",
       "  <matplotlib.patches.Wedge at 0x23f42820>],\n",
       " [Text(-0.4697155147872869, -1.104249670666971, 'Yes'),\n",
       "  Text(0.43057264999338385, 1.0122288244649404, 'No')],\n",
       " [Text(-0.27400071695925066, -0.6441456412223998, '59.4%'),\n",
       "  Text(0.23485780908730025, 0.5521248133445129, '40.6%')])"
      ]
     },
     "execution_count": 194,
     "metadata": {},
     "output_type": "execute_result"
    },
    {
     "data": {
      "image/png": "[encoded data removed]",
      "text/plain": [
       "<Figure size 432x288 with 1 Axes>"
      ]
     },
     "metadata": {},
     "output_type": "display_data"
    }
   ],
   "source": [
    "index = 'Yes', 'No'\n",
    "sizes = [123, 84]\n",
    "colors = ['yellowgreen', 'red']\n",
    "explode = (0.1, 0) \n",
    "\n",
    "plt.title('Python Skills required', fontsize=15)\n",
    "plt.pie(sizes, explode=explode, labels=labels, colors=colors,\n",
    "autopct='%1.1f%%', shadow=True, startangle=140)"
   ]
  },
  {
   "cell_type": "code",
   "execution_count": 192,
   "metadata": {},
   "outputs": [
    {
     "data": {
      "text/plain": [
       "([<matplotlib.patches.Wedge at 0x23eb7df0>,\n",
       "  <matplotlib.patches.Wedge at 0x23ec4520>],\n",
       " [Text(-1.160281069575315, -0.3061826898849181, 'Yes'),\n",
       "  Text(1.0635909804440384, 0.28066746572784196, 'No')],\n",
       " [Text(-0.6768306239189336, -0.17860656909953554, '30.4%'),\n",
       "  Text(0.5801405347876573, 0.1530913449424592, '69.6%')])"
      ]
     },
     "execution_count": 192,
     "metadata": {},
     "output_type": "execute_result"
    },
    {
     "data": {
      "image/png": "[encoded data removed]",
      "text/plain": [
       "<Figure size 432x288 with 1 Axes>"
      ]
     },
     "metadata": {},
     "output_type": "display_data"
    }
   ],
   "source": [
    "index = 'Yes', 'No'\n",
    "sizes = [63, 144]\n",
    "colors = ['yellowgreen', 'red']\n",
    "explode = (0.1, 0) \n",
    "\n",
    "plt.title('Java Skills required', fontsize=15)\n",
    "plt.pie(sizes, explode=explode, labels=labels, colors=colors,\n",
    "autopct='%1.1f%%', shadow=True, startangle=140)"
   ]
  },
  {
   "cell_type": "code",
   "execution_count": null,
   "metadata": {},
   "outputs": [],
   "source": [
    "index = 'Yes', 'No'\n",
    "sizes = [63, 144]\n",
    "colors = ['yellowgreen', 'red']\n",
    "explode = (0.1, 0) \n",
    "\n",
    "plt.title('Java Skills required', fontsize=15)\n",
    "plt.pie(sizes, explode=explode, labels=labels, colors=colors,\n",
    "autopct='%1.1f%%', shadow=True, startangle=140)"
   ]
  },
  {
   "cell_type": "code",
   "execution_count": 193,
   "metadata": {},
   "outputs": [
    {
     "data": {
      "text/plain": [
       "([<matplotlib.patches.Wedge at 0x23ef5eb0>,\n",
       "  <matplotlib.patches.Wedge at 0x23f045e0>],\n",
       " [Text(-1.1994472390687179, -0.03641868600636829, 'Yes'),\n",
       "  Text(1.099493302479658, 0.033383795505837456, 'No')],\n",
       " [Text(-0.6996775561234186, -0.02124423350371483, '23.2%'),\n",
       "  Text(0.5997236195343588, 0.018209343003184067, '76.8%')])"
      ]
     },
     "execution_count": 193,
     "metadata": {},
     "output_type": "execute_result"
    },
    {
     "data": {
      "image/png": "[encoded data removed]",
      "text/plain": [
       "<Figure size 432x288 with 1 Axes>"
      ]
     },
     "metadata": {},
     "output_type": "display_data"
    }
   ],
   "source": [
    "index = 'Yes', 'No'\n",
    "sizes = [48, 159]\n",
    "colors = ['yellowgreen', 'red']\n",
    "explode = (0.1, 0) \n",
    "\n",
    "plt.title('SQL Skills required', fontsize=15)\n",
    "plt.pie(sizes, explode=explode, labels=labels, colors=colors,\n",
    "autopct='%1.1f%%', shadow=True, startangle=140)"
   ]
  }
 ],
 "metadata": {
  "kernelspec": {
   "display_name": "Python 3",
   "language": "python",
   "name": "python3"
  },
  "language_info": {
   "codemirror_mode": {
    "name": "ipython",
    "version": 3
   },
   "file_extension": ".py",
   "mimetype": "text/x-python",
   "name": "python",
   "nbconvert_exporter": "python",
   "pygments_lexer": "ipython3",
   "version": "3.8.1"
  }
 },
 "nbformat": 4,
 "nbformat_minor": 4
}
