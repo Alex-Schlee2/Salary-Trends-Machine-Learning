{
 "cells": [
  {
   "cell_type": "code",
   "execution_count": 243,
   "metadata": {},
   "outputs": [],
   "source": [
    "#import relevant libraries and packages\n",
    "import pandas as pd\n",
    "import numpy as np\n",
    "import matplotlib.pyplot as plt\n",
    "import seaborn as sns\n",
    "%matplotlib inline"
   ]
  },
  {
   "cell_type": "code",
   "execution_count": 244,
   "metadata": {},
   "outputs": [],
   "source": [
    "#import the dataset\n",
    "df=pd.read_csv('Dataset 1- Indeed_Raw_Data.csv', index_col=0)"
   ]
  },
  {
   "cell_type": "code",
   "execution_count": 245,
   "metadata": {},
   "outputs": [
    {
     "data": {
      "text/html": [
       "<div>\n",
       "<style scoped>\n",
       "    .dataframe tbody tr th:only-of-type {\n",
       "        vertical-align: middle;\n",
       "    }\n",
       "\n",
       "    .dataframe tbody tr th {\n",
       "        vertical-align: top;\n",
       "    }\n",
       "\n",
       "    .dataframe thead th {\n",
       "        text-align: right;\n",
       "    }\n",
       "</style>\n",
       "<table border=\"1\" class=\"dataframe\">\n",
       "  <thead>\n",
       "    <tr style=\"text-align: right;\">\n",
       "      <th></th>\n",
       "      <th>Job_title</th>\n",
       "      <th>Company_name</th>\n",
       "      <th>Location</th>\n",
       "      <th>Salary</th>\n",
       "      <th>Job_Description</th>\n",
       "    </tr>\n",
       "  </thead>\n",
       "  <tbody>\n",
       "    <tr>\n",
       "      <th>0</th>\n",
       "      <td>Apple Media Products (AMP)- Big Data Analyst, ...</td>\n",
       "      <td>Apple</td>\n",
       "      <td>London</td>\n",
       "      <td>NaN</td>\n",
       "      <td>Summary\\nPosted: Jan 28, 2020\\nWeekly Hours: 3...</td>\n",
       "    </tr>\n",
       "    <tr>\n",
       "      <th>1</th>\n",
       "      <td>Lead Software Engineer</td>\n",
       "      <td>Northrop Grumman UK</td>\n",
       "      <td>London</td>\n",
       "      <td>NaN</td>\n",
       "      <td>Are you an experienced Software Engineer who w...</td>\n",
       "    </tr>\n",
       "    <tr>\n",
       "      <th>2</th>\n",
       "      <td>Apprentice Radiotherapy Engineer (Clinical Tec...</td>\n",
       "      <td>University Hospital Southampton NHS Foundation...</td>\n",
       "      <td>Southampton SO14</td>\n",
       "      <td>£18,369 a year</td>\n",
       "      <td>This is an exciting opportunity to be an Appre...</td>\n",
       "    </tr>\n",
       "    <tr>\n",
       "      <th>3</th>\n",
       "      <td>Machine Learning Engineer</td>\n",
       "      <td>GMV</td>\n",
       "      <td>Oxford</td>\n",
       "      <td>NaN</td>\n",
       "      <td>Description\\nThe GMV UK Machine Learning Team ...</td>\n",
       "    </tr>\n",
       "    <tr>\n",
       "      <th>4</th>\n",
       "      <td>Machine Learning Engineer</td>\n",
       "      <td>Cyberlens Ltd.</td>\n",
       "      <td>London EC4N</td>\n",
       "      <td>£45,000 - £53,000 a year</td>\n",
       "      <td>Company: CyberLens Ltd (www.cyberlens.eu)\\nLoc...</td>\n",
       "    </tr>\n",
       "  </tbody>\n",
       "</table>\n",
       "</div>"
      ],
      "text/plain": [
       "                                           Job_title  \\\n",
       "0  Apple Media Products (AMP)- Big Data Analyst, ...   \n",
       "1                             Lead Software Engineer   \n",
       "2  Apprentice Radiotherapy Engineer (Clinical Tec...   \n",
       "3                          Machine Learning Engineer   \n",
       "4                          Machine Learning Engineer   \n",
       "\n",
       "                                        Company_name          Location  \\\n",
       "0                                              Apple            London   \n",
       "1                                Northrop Grumman UK            London   \n",
       "2  University Hospital Southampton NHS Foundation...  Southampton SO14   \n",
       "3                                                GMV            Oxford   \n",
       "4                                     Cyberlens Ltd.       London EC4N   \n",
       "\n",
       "                     Salary                                    Job_Description  \n",
       "0                       NaN  Summary\\nPosted: Jan 28, 2020\\nWeekly Hours: 3...  \n",
       "1                       NaN  Are you an experienced Software Engineer who w...  \n",
       "2            £18,369 a year  This is an exciting opportunity to be an Appre...  \n",
       "3                       NaN  Description\\nThe GMV UK Machine Learning Team ...  \n",
       "4  £45,000 - £53,000 a year  Company: CyberLens Ltd (www.cyberlens.eu)\\nLoc...  "
      ]
     },
     "execution_count": 245,
     "metadata": {},
     "output_type": "execute_result"
    }
   ],
   "source": [
    "df.head(5)"
   ]
  },
  {
   "cell_type": "code",
   "execution_count": 246,
   "metadata": {},
   "outputs": [
    {
     "name": "stdout",
     "output_type": "stream",
     "text": [
      "<class 'pandas.core.frame.DataFrame'>\n",
      "Int64Index: 794 entries, 0 to 793\n",
      "Data columns (total 5 columns):\n",
      " #   Column           Non-Null Count  Dtype \n",
      "---  ------           --------------  ----- \n",
      " 0   Job_title        794 non-null    object\n",
      " 1   Company_name     794 non-null    object\n",
      " 2   Location         792 non-null    object\n",
      " 3   Salary           211 non-null    object\n",
      " 4   Job_Description  794 non-null    object\n",
      "dtypes: object(5)\n",
      "memory usage: 37.2+ KB\n"
     ]
    }
   ],
   "source": [
    "df.info()"
   ]
  },
  {
   "cell_type": "markdown",
   "metadata": {},
   "source": [
    "## Data Cleaning Agenda\n",
    "\n",
    "#### drop Unnamed column\n",
    "#### Drop null values\n",
    "#### Location column: just city- remove everything else\n",
    "#### Salary column: \n",
    "        remove ,,a year\"\n",
    "        calculate yearly salary if necessary/ remove hourly salary\n",
    "        For Ranges( min / max column)\n",
    "        calculate mean\n",
    "        Calculate $\n",
    "        \n"
   ]
  },
  {
   "cell_type": "code",
   "execution_count": 247,
   "metadata": {},
   "outputs": [],
   "source": [
    "# remove column Unnamed:0\n",
    "\n",
    "# alternative 1\n",
    "# df = df.loc[:, ~df.columns.str.contains('^Unnamed')]\n",
    "\n",
    "# alternative 2\n",
    "#df_example=pd.read_csv('Dataset 1- Indeed_Raw_Data.csv', index_col=0)\n",
    "#df_example.head(2)\n",
    "\n",
    "# alternative 3\n",
    "#df_alt_3= pd.read_csv('Indeed_Raw_Data.csv')\n",
    "#df_alt_3.head(2)\n",
    "#df_alt_3.drop('Unnamed: 0', axis='columns')\n"
   ]
  },
  {
   "cell_type": "markdown",
   "metadata": {},
   "source": [
    "#### Handling missing values"
   ]
  },
  {
   "cell_type": "code",
   "execution_count": 248,
   "metadata": {},
   "outputs": [
    {
     "data": {
      "text/html": [
       "<div>\n",
       "<style scoped>\n",
       "    .dataframe tbody tr th:only-of-type {\n",
       "        vertical-align: middle;\n",
       "    }\n",
       "\n",
       "    .dataframe tbody tr th {\n",
       "        vertical-align: top;\n",
       "    }\n",
       "\n",
       "    .dataframe thead th {\n",
       "        text-align: right;\n",
       "    }\n",
       "</style>\n",
       "<table border=\"1\" class=\"dataframe\">\n",
       "  <thead>\n",
       "    <tr style=\"text-align: right;\">\n",
       "      <th></th>\n",
       "      <th>Job_title</th>\n",
       "      <th>Company_name</th>\n",
       "      <th>Location</th>\n",
       "      <th>Salary</th>\n",
       "      <th>Job_Description</th>\n",
       "    </tr>\n",
       "  </thead>\n",
       "  <tbody>\n",
       "    <tr>\n",
       "      <th>0</th>\n",
       "      <td>False</td>\n",
       "      <td>False</td>\n",
       "      <td>False</td>\n",
       "      <td>True</td>\n",
       "      <td>False</td>\n",
       "    </tr>\n",
       "    <tr>\n",
       "      <th>1</th>\n",
       "      <td>False</td>\n",
       "      <td>False</td>\n",
       "      <td>False</td>\n",
       "      <td>True</td>\n",
       "      <td>False</td>\n",
       "    </tr>\n",
       "    <tr>\n",
       "      <th>2</th>\n",
       "      <td>False</td>\n",
       "      <td>False</td>\n",
       "      <td>False</td>\n",
       "      <td>False</td>\n",
       "      <td>False</td>\n",
       "    </tr>\n",
       "    <tr>\n",
       "      <th>3</th>\n",
       "      <td>False</td>\n",
       "      <td>False</td>\n",
       "      <td>False</td>\n",
       "      <td>True</td>\n",
       "      <td>False</td>\n",
       "    </tr>\n",
       "    <tr>\n",
       "      <th>4</th>\n",
       "      <td>False</td>\n",
       "      <td>False</td>\n",
       "      <td>False</td>\n",
       "      <td>False</td>\n",
       "      <td>False</td>\n",
       "    </tr>\n",
       "    <tr>\n",
       "      <th>...</th>\n",
       "      <td>...</td>\n",
       "      <td>...</td>\n",
       "      <td>...</td>\n",
       "      <td>...</td>\n",
       "      <td>...</td>\n",
       "    </tr>\n",
       "    <tr>\n",
       "      <th>789</th>\n",
       "      <td>False</td>\n",
       "      <td>False</td>\n",
       "      <td>False</td>\n",
       "      <td>False</td>\n",
       "      <td>False</td>\n",
       "    </tr>\n",
       "    <tr>\n",
       "      <th>790</th>\n",
       "      <td>False</td>\n",
       "      <td>False</td>\n",
       "      <td>False</td>\n",
       "      <td>True</td>\n",
       "      <td>False</td>\n",
       "    </tr>\n",
       "    <tr>\n",
       "      <th>791</th>\n",
       "      <td>False</td>\n",
       "      <td>False</td>\n",
       "      <td>False</td>\n",
       "      <td>False</td>\n",
       "      <td>False</td>\n",
       "    </tr>\n",
       "    <tr>\n",
       "      <th>792</th>\n",
       "      <td>False</td>\n",
       "      <td>False</td>\n",
       "      <td>False</td>\n",
       "      <td>True</td>\n",
       "      <td>False</td>\n",
       "    </tr>\n",
       "    <tr>\n",
       "      <th>793</th>\n",
       "      <td>False</td>\n",
       "      <td>False</td>\n",
       "      <td>False</td>\n",
       "      <td>True</td>\n",
       "      <td>False</td>\n",
       "    </tr>\n",
       "  </tbody>\n",
       "</table>\n",
       "<p>794 rows × 5 columns</p>\n",
       "</div>"
      ],
      "text/plain": [
       "     Job_title  Company_name  Location  Salary  Job_Description\n",
       "0        False         False     False    True            False\n",
       "1        False         False     False    True            False\n",
       "2        False         False     False   False            False\n",
       "3        False         False     False    True            False\n",
       "4        False         False     False   False            False\n",
       "..         ...           ...       ...     ...              ...\n",
       "789      False         False     False   False            False\n",
       "790      False         False     False    True            False\n",
       "791      False         False     False   False            False\n",
       "792      False         False     False    True            False\n",
       "793      False         False     False    True            False\n",
       "\n",
       "[794 rows x 5 columns]"
      ]
     },
     "execution_count": 248,
     "metadata": {},
     "output_type": "execute_result"
    }
   ],
   "source": [
    "df.isna()"
   ]
  },
  {
   "cell_type": "code",
   "execution_count": 249,
   "metadata": {},
   "outputs": [
    {
     "data": {
      "text/plain": [
       "<matplotlib.axes._subplots.AxesSubplot at 0x198831c0>"
      ]
     },
     "execution_count": 249,
     "metadata": {},
     "output_type": "execute_result"
    },
    {
     "data": {
      "image/png": "[encoded data removed]",
      "text/plain": [
       "<Figure size 432x288 with 1 Axes>"
      ]
     },
     "metadata": {
      "needs_background": "light"
     },
     "output_type": "display_data"
    }
   ],
   "source": [
    "#check missing values in a heatmap\n",
    "sns.heatmap(df.isna(), yticklabels=False,cbar=False,cmap='BuPu')"
   ]
  },
  {
   "cell_type": "code",
   "execution_count": 250,
   "metadata": {},
   "outputs": [],
   "source": [
    "df=df.dropna()"
   ]
  },
  {
   "cell_type": "code",
   "execution_count": 251,
   "metadata": {},
   "outputs": [
    {
     "name": "stdout",
     "output_type": "stream",
     "text": [
      "<class 'pandas.core.frame.DataFrame'>\n",
      "Int64Index: 211 entries, 2 to 791\n",
      "Data columns (total 5 columns):\n",
      " #   Column           Non-Null Count  Dtype \n",
      "---  ------           --------------  ----- \n",
      " 0   Job_title        211 non-null    object\n",
      " 1   Company_name     211 non-null    object\n",
      " 2   Location         211 non-null    object\n",
      " 3   Salary           211 non-null    object\n",
      " 4   Job_Description  211 non-null    object\n",
      "dtypes: object(5)\n",
      "memory usage: 9.9+ KB\n"
     ]
    }
   ],
   "source": [
    "df.info()"
   ]
  },
  {
   "cell_type": "code",
   "execution_count": 252,
   "metadata": {},
   "outputs": [
    {
     "data": {
      "text/plain": [
       "<matplotlib.axes._subplots.AxesSubplot at 0x198c4190>"
      ]
     },
     "execution_count": 252,
     "metadata": {},
     "output_type": "execute_result"
    },
    {
     "data": {
      "image/png": "[encoded data removed]",
      "text/plain": [
       "<Figure size 432x288 with 1 Axes>"
      ]
     },
     "metadata": {
      "needs_background": "light"
     },
     "output_type": "display_data"
    }
   ],
   "source": [
    "#check emtpy values again after dropping\n",
    "sns.heatmap(df.isna(), yticklabels=False,cbar=False,cmap='BuPu')"
   ]
  },
  {
   "cell_type": "markdown",
   "metadata": {},
   "source": [
    "#### Editing location name"
   ]
  },
  {
   "cell_type": "code",
   "execution_count": 253,
   "metadata": {},
   "outputs": [],
   "source": [
    "#default split on white space\n",
    "df['Location']=df['Location'].apply(lambda x: x.split()[0])"
   ]
  },
  {
   "cell_type": "code",
   "execution_count": 254,
   "metadata": {},
   "outputs": [
    {
     "data": {
      "text/html": [
       "<div>\n",
       "<style scoped>\n",
       "    .dataframe tbody tr th:only-of-type {\n",
       "        vertical-align: middle;\n",
       "    }\n",
       "\n",
       "    .dataframe tbody tr th {\n",
       "        vertical-align: top;\n",
       "    }\n",
       "\n",
       "    .dataframe thead th {\n",
       "        text-align: right;\n",
       "    }\n",
       "</style>\n",
       "<table border=\"1\" class=\"dataframe\">\n",
       "  <thead>\n",
       "    <tr style=\"text-align: right;\">\n",
       "      <th></th>\n",
       "      <th>Job_title</th>\n",
       "      <th>Company_name</th>\n",
       "      <th>Location</th>\n",
       "      <th>Salary</th>\n",
       "      <th>Job_Description</th>\n",
       "    </tr>\n",
       "  </thead>\n",
       "  <tbody>\n",
       "    <tr>\n",
       "      <th>2</th>\n",
       "      <td>Apprentice Radiotherapy Engineer (Clinical Tec...</td>\n",
       "      <td>University Hospital Southampton NHS Foundation...</td>\n",
       "      <td>Southampton</td>\n",
       "      <td>£18,369 a year</td>\n",
       "      <td>This is an exciting opportunity to be an Appre...</td>\n",
       "    </tr>\n",
       "    <tr>\n",
       "      <th>4</th>\n",
       "      <td>Machine Learning Engineer</td>\n",
       "      <td>Cyberlens Ltd.</td>\n",
       "      <td>London</td>\n",
       "      <td>£45,000 - £53,000 a year</td>\n",
       "      <td>Company: CyberLens Ltd (www.cyberlens.eu)\\nLoc...</td>\n",
       "    </tr>\n",
       "    <tr>\n",
       "      <th>6</th>\n",
       "      <td>Deep Learning Engineer (Signal Processing)</td>\n",
       "      <td>Drone Defence</td>\n",
       "      <td>Retford</td>\n",
       "      <td>£25,000 - £35,000 a year</td>\n",
       "      <td>Are you a Deep Learning Engineer experienced w...</td>\n",
       "    </tr>\n",
       "    <tr>\n",
       "      <th>11</th>\n",
       "      <td>Senior Machine Learning Engineer / Machine Lea...</td>\n",
       "      <td>Nucleome Therapeutics Ltd</td>\n",
       "      <td>Oxford</td>\n",
       "      <td>£35,000 - £58,000 a year</td>\n",
       "      <td>Job description\\nWe are looking for machine le...</td>\n",
       "    </tr>\n",
       "    <tr>\n",
       "      <th>12</th>\n",
       "      <td>Senior Software Engineer</td>\n",
       "      <td>WCKD RZR</td>\n",
       "      <td>London</td>\n",
       "      <td>£35,000 - £80,000 a year</td>\n",
       "      <td>Are you a highly motivated Senior Software Eng...</td>\n",
       "    </tr>\n",
       "  </tbody>\n",
       "</table>\n",
       "</div>"
      ],
      "text/plain": [
       "                                            Job_title  \\\n",
       "2   Apprentice Radiotherapy Engineer (Clinical Tec...   \n",
       "4                           Machine Learning Engineer   \n",
       "6          Deep Learning Engineer (Signal Processing)   \n",
       "11  Senior Machine Learning Engineer / Machine Lea...   \n",
       "12                           Senior Software Engineer   \n",
       "\n",
       "                                         Company_name     Location  \\\n",
       "2   University Hospital Southampton NHS Foundation...  Southampton   \n",
       "4                                      Cyberlens Ltd.       London   \n",
       "6                                       Drone Defence      Retford   \n",
       "11                          Nucleome Therapeutics Ltd       Oxford   \n",
       "12                                           WCKD RZR       London   \n",
       "\n",
       "                      Salary  \\\n",
       "2             £18,369 a year   \n",
       "4   £45,000 - £53,000 a year   \n",
       "6   £25,000 - £35,000 a year   \n",
       "11  £35,000 - £58,000 a year   \n",
       "12  £35,000 - £80,000 a year   \n",
       "\n",
       "                                      Job_Description  \n",
       "2   This is an exciting opportunity to be an Appre...  \n",
       "4   Company: CyberLens Ltd (www.cyberlens.eu)\\nLoc...  \n",
       "6   Are you a Deep Learning Engineer experienced w...  \n",
       "11  Job description\\nWe are looking for machine le...  \n",
       "12  Are you a highly motivated Senior Software Eng...  "
      ]
     },
     "execution_count": 254,
     "metadata": {},
     "output_type": "execute_result"
    }
   ],
   "source": [
    "df.head()"
   ]
  },
  {
   "cell_type": "markdown",
   "metadata": {},
   "source": [
    "#### Editing salary column"
   ]
  },
  {
   "cell_type": "code",
   "execution_count": 255,
   "metadata": {},
   "outputs": [
    {
     "data": {
      "text/html": [
       "<div>\n",
       "<style scoped>\n",
       "    .dataframe tbody tr th:only-of-type {\n",
       "        vertical-align: middle;\n",
       "    }\n",
       "\n",
       "    .dataframe tbody tr th {\n",
       "        vertical-align: top;\n",
       "    }\n",
       "\n",
       "    .dataframe thead th {\n",
       "        text-align: right;\n",
       "    }\n",
       "</style>\n",
       "<table border=\"1\" class=\"dataframe\">\n",
       "  <thead>\n",
       "    <tr style=\"text-align: right;\">\n",
       "      <th></th>\n",
       "      <th>Job_title</th>\n",
       "      <th>Company_name</th>\n",
       "      <th>Location</th>\n",
       "      <th>Salary</th>\n",
       "      <th>Job_Description</th>\n",
       "    </tr>\n",
       "  </thead>\n",
       "  <tbody>\n",
       "    <tr>\n",
       "      <th>2</th>\n",
       "      <td>Apprentice Radiotherapy Engineer (Clinical Tec...</td>\n",
       "      <td>University Hospital Southampton NHS Foundation...</td>\n",
       "      <td>Southampton</td>\n",
       "      <td>£18,369 a year</td>\n",
       "      <td>This is an exciting opportunity to be an Appre...</td>\n",
       "    </tr>\n",
       "    <tr>\n",
       "      <th>4</th>\n",
       "      <td>Machine Learning Engineer</td>\n",
       "      <td>Cyberlens Ltd.</td>\n",
       "      <td>London</td>\n",
       "      <td>£45,000 - £53,000 a year</td>\n",
       "      <td>Company: CyberLens Ltd (www.cyberlens.eu)\\nLoc...</td>\n",
       "    </tr>\n",
       "  </tbody>\n",
       "</table>\n",
       "</div>"
      ],
      "text/plain": [
       "                                           Job_title  \\\n",
       "2  Apprentice Radiotherapy Engineer (Clinical Tec...   \n",
       "4                          Machine Learning Engineer   \n",
       "\n",
       "                                        Company_name     Location  \\\n",
       "2  University Hospital Southampton NHS Foundation...  Southampton   \n",
       "4                                     Cyberlens Ltd.       London   \n",
       "\n",
       "                     Salary                                    Job_Description  \n",
       "2            £18,369 a year  This is an exciting opportunity to be an Appre...  \n",
       "4  £45,000 - £53,000 a year  Company: CyberLens Ltd (www.cyberlens.eu)\\nLoc...  "
      ]
     },
     "execution_count": 255,
     "metadata": {},
     "output_type": "execute_result"
    }
   ],
   "source": [
    "df.head(2)"
   ]
  },
  {
   "cell_type": "code",
   "execution_count": 256,
   "metadata": {},
   "outputs": [],
   "source": [
    "#remove ,,a year\"\n",
    "df['Salary']=df['Salary'].apply(lambda x: x.strip('a year'))"
   ]
  },
  {
   "cell_type": "code",
   "execution_count": 257,
   "metadata": {},
   "outputs": [
    {
     "data": {
      "text/plain": [
       "2                £18,369\n",
       "4      £45,000 - £53,000\n",
       "6      £25,000 - £35,000\n",
       "11     £35,000 - £58,000\n",
       "12     £35,000 - £80,000\n",
       "             ...        \n",
       "780    £45,000 - £55,000\n",
       "782    £55,000 - £65,000\n",
       "786              £55,000\n",
       "789    £55,000 - £80,000\n",
       "791    £60,000 - £65,000\n",
       "Name: Salary, Length: 211, dtype: object"
      ]
     },
     "execution_count": 257,
     "metadata": {},
     "output_type": "execute_result"
    }
   ],
   "source": [
    "df['Salary']"
   ]
  },
  {
   "cell_type": "code",
   "execution_count": 258,
   "metadata": {},
   "outputs": [],
   "source": [
    "# remove £ sign\n",
    "df['Salary']=df['Salary'].apply(lambda x: x.replace('£', ''))"
   ]
  },
  {
   "cell_type": "code",
   "execution_count": 259,
   "metadata": {},
   "outputs": [
    {
     "data": {
      "text/plain": [
       "2               18,369\n",
       "4      45,000 - 53,000\n",
       "6      25,000 - 35,000\n",
       "11     35,000 - 58,000\n",
       "12     35,000 - 80,000\n",
       "            ...       \n",
       "780    45,000 - 55,000\n",
       "782    55,000 - 65,000\n",
       "786             55,000\n",
       "789    55,000 - 80,000\n",
       "791    60,000 - 65,000\n",
       "Name: Salary, Length: 211, dtype: object"
      ]
     },
     "execution_count": 259,
     "metadata": {},
     "output_type": "execute_result"
    }
   ],
   "source": [
    "df['Salary']"
   ]
  },
  {
   "cell_type": "code",
   "execution_count": 260,
   "metadata": {},
   "outputs": [],
   "source": [
    "#reset index (we dropped more than 2/3 of our values due to missing values)\n",
    "df=df.reset_index()"
   ]
  },
  {
   "cell_type": "code",
   "execution_count": 261,
   "metadata": {},
   "outputs": [
    {
     "data": {
      "text/plain": [
       "0               18,369\n",
       "1      45,000 - 53,000\n",
       "2      25,000 - 35,000\n",
       "3      35,000 - 58,000\n",
       "4      35,000 - 80,000\n",
       "            ...       \n",
       "206    45,000 - 55,000\n",
       "207    55,000 - 65,000\n",
       "208             55,000\n",
       "209    55,000 - 80,000\n",
       "210    60,000 - 65,000\n",
       "Name: Salary, Length: 211, dtype: object"
      ]
     },
     "execution_count": 261,
     "metadata": {},
     "output_type": "execute_result"
    }
   ],
   "source": [
    "df['Salary']"
   ]
  },
  {
   "cell_type": "code",
   "execution_count": 262,
   "metadata": {},
   "outputs": [
    {
     "data": {
      "text/html": [
       "<div>\n",
       "<style scoped>\n",
       "    .dataframe tbody tr th:only-of-type {\n",
       "        vertical-align: middle;\n",
       "    }\n",
       "\n",
       "    .dataframe tbody tr th {\n",
       "        vertical-align: top;\n",
       "    }\n",
       "\n",
       "    .dataframe thead th {\n",
       "        text-align: right;\n",
       "    }\n",
       "</style>\n",
       "<table border=\"1\" class=\"dataframe\">\n",
       "  <thead>\n",
       "    <tr style=\"text-align: right;\">\n",
       "      <th></th>\n",
       "      <th>index</th>\n",
       "      <th>Job_title</th>\n",
       "      <th>Company_name</th>\n",
       "      <th>Location</th>\n",
       "      <th>Salary</th>\n",
       "      <th>Job_Description</th>\n",
       "    </tr>\n",
       "  </thead>\n",
       "  <tbody>\n",
       "    <tr>\n",
       "      <th>9</th>\n",
       "      <td>34</td>\n",
       "      <td>Trainee Rail Track Operative</td>\n",
       "      <td>Direct Tools Supplies</td>\n",
       "      <td>Birmingham</td>\n",
       "      <td>9.25 - 13.25 an hou</td>\n",
       "      <td>Do you want a career working in rail infrastru...</td>\n",
       "    </tr>\n",
       "    <tr>\n",
       "      <th>12</th>\n",
       "      <td>43</td>\n",
       "      <td>Internship (8 week placement) Exploring the li...</td>\n",
       "      <td>University of Bath</td>\n",
       "      <td>Bath</td>\n",
       "      <td>9 an hou</td>\n",
       "      <td>Faraday Undergraduate Summer Experiences (FUSE...</td>\n",
       "    </tr>\n",
       "    <tr>\n",
       "      <th>16</th>\n",
       "      <td>55</td>\n",
       "      <td>Internship (8 week placement) Role of cation i...</td>\n",
       "      <td>University of Bath</td>\n",
       "      <td>Bath</td>\n",
       "      <td>9 an hou</td>\n",
       "      <td>Faraday Undergraduate Summer Experiences (FUSE...</td>\n",
       "    </tr>\n",
       "    <tr>\n",
       "      <th>21</th>\n",
       "      <td>74</td>\n",
       "      <td>Trainee Rail Track Operative</td>\n",
       "      <td>Direct Tools Supplies</td>\n",
       "      <td>Bury</td>\n",
       "      <td>9.25 - 13.20 an hou</td>\n",
       "      <td>Do you want a career working in rail infrastru...</td>\n",
       "    </tr>\n",
       "  </tbody>\n",
       "</table>\n",
       "</div>"
      ],
      "text/plain": [
       "    index                                          Job_title  \\\n",
       "9      34                       Trainee Rail Track Operative   \n",
       "12     43  Internship (8 week placement) Exploring the li...   \n",
       "16     55  Internship (8 week placement) Role of cation i...   \n",
       "21     74                       Trainee Rail Track Operative   \n",
       "\n",
       "             Company_name    Location               Salary  \\\n",
       "9   Direct Tools Supplies  Birmingham  9.25 - 13.25 an hou   \n",
       "12     University of Bath        Bath             9 an hou   \n",
       "16     University of Bath        Bath             9 an hou   \n",
       "21  Direct Tools Supplies        Bury  9.25 - 13.20 an hou   \n",
       "\n",
       "                                      Job_Description  \n",
       "9   Do you want a career working in rail infrastru...  \n",
       "12  Faraday Undergraduate Summer Experiences (FUSE...  \n",
       "16  Faraday Undergraduate Summer Experiences (FUSE...  \n",
       "21  Do you want a career working in rail infrastru...  "
      ]
     },
     "execution_count": 262,
     "metadata": {},
     "output_type": "execute_result"
    }
   ],
   "source": [
    "#drop Salary entries which are paid per hour(Trainee/Internships)\n",
    "#other possibility: take average - but here we drop that values\n",
    "df[df['Salary'].str.contains(\"hou\")]"
   ]
  },
  {
   "cell_type": "code",
   "execution_count": 263,
   "metadata": {},
   "outputs": [],
   "source": [
    "df=df[~df['Salary'].str.contains('an hou')]"
   ]
  },
  {
   "cell_type": "code",
   "execution_count": 264,
   "metadata": {},
   "outputs": [
    {
     "data": {
      "text/plain": [
       "64    30,000 - 40,000\n",
       "65    70,000 - 90,000\n",
       "66             11,255\n",
       "67    35,000 - 38,000\n",
       "68    30,000 - 40,000\n",
       "69    65,000 - 80,000\n",
       "70             45,000\n",
       "71            550 a d\n",
       "72    40,000 - 50,000\n",
       "73    35,000 - 60,000\n",
       "Name: Salary, dtype: object"
      ]
     },
     "execution_count": 264,
     "metadata": {},
     "output_type": "execute_result"
    }
   ],
   "source": [
    "df['Salary'].iloc[60:70]"
   ]
  },
  {
   "cell_type": "code",
   "execution_count": 180,
   "metadata": {},
   "outputs": [
    {
     "data": {
      "text/plain": [
       "93     Job Description\\nThis is an exciting opportuni...\n",
       "141    Data Scientist ( Python / Machine Learning )\\n...\n",
       "Name: Job_Description, dtype: object"
      ]
     },
     "execution_count": 180,
     "metadata": {},
     "output_type": "execute_result"
    }
   ],
   "source": [
    "#a d values (paying per day)\n",
    "df[df['Salary']=='500 - 550 a d']['Job_Description']"
   ]
  },
  {
   "cell_type": "code",
   "execution_count": 265,
   "metadata": {},
   "outputs": [],
   "source": [
    "#splitting salary values on hyphen\n",
    "#set up minimum salary values -after that setting up maximum values to get the average\n",
    "df['Salary_min']=df['Salary'].apply(lambda x: x.split('-')[0])"
   ]
  },
  {
   "cell_type": "code",
   "execution_count": 266,
   "metadata": {},
   "outputs": [
    {
     "data": {
      "text/html": [
       "<div>\n",
       "<style scoped>\n",
       "    .dataframe tbody tr th:only-of-type {\n",
       "        vertical-align: middle;\n",
       "    }\n",
       "\n",
       "    .dataframe tbody tr th {\n",
       "        vertical-align: top;\n",
       "    }\n",
       "\n",
       "    .dataframe thead th {\n",
       "        text-align: right;\n",
       "    }\n",
       "</style>\n",
       "<table border=\"1\" class=\"dataframe\">\n",
       "  <thead>\n",
       "    <tr style=\"text-align: right;\">\n",
       "      <th></th>\n",
       "      <th>index</th>\n",
       "      <th>Job_title</th>\n",
       "      <th>Company_name</th>\n",
       "      <th>Location</th>\n",
       "      <th>Salary</th>\n",
       "      <th>Job_Description</th>\n",
       "      <th>Salary_min</th>\n",
       "    </tr>\n",
       "  </thead>\n",
       "  <tbody>\n",
       "    <tr>\n",
       "      <th>0</th>\n",
       "      <td>2</td>\n",
       "      <td>Apprentice Radiotherapy Engineer (Clinical Tec...</td>\n",
       "      <td>University Hospital Southampton NHS Foundation...</td>\n",
       "      <td>Southampton</td>\n",
       "      <td>18,369</td>\n",
       "      <td>This is an exciting opportunity to be an Appre...</td>\n",
       "      <td>18,369</td>\n",
       "    </tr>\n",
       "    <tr>\n",
       "      <th>1</th>\n",
       "      <td>4</td>\n",
       "      <td>Machine Learning Engineer</td>\n",
       "      <td>Cyberlens Ltd.</td>\n",
       "      <td>London</td>\n",
       "      <td>45,000 - 53,000</td>\n",
       "      <td>Company: CyberLens Ltd (www.cyberlens.eu)\\nLoc...</td>\n",
       "      <td>45,000</td>\n",
       "    </tr>\n",
       "    <tr>\n",
       "      <th>2</th>\n",
       "      <td>6</td>\n",
       "      <td>Deep Learning Engineer (Signal Processing)</td>\n",
       "      <td>Drone Defence</td>\n",
       "      <td>Retford</td>\n",
       "      <td>25,000 - 35,000</td>\n",
       "      <td>Are you a Deep Learning Engineer experienced w...</td>\n",
       "      <td>25,000</td>\n",
       "    </tr>\n",
       "    <tr>\n",
       "      <th>3</th>\n",
       "      <td>11</td>\n",
       "      <td>Senior Machine Learning Engineer / Machine Lea...</td>\n",
       "      <td>Nucleome Therapeutics Ltd</td>\n",
       "      <td>Oxford</td>\n",
       "      <td>35,000 - 58,000</td>\n",
       "      <td>Job description\\nWe are looking for machine le...</td>\n",
       "      <td>35,000</td>\n",
       "    </tr>\n",
       "    <tr>\n",
       "      <th>4</th>\n",
       "      <td>12</td>\n",
       "      <td>Senior Software Engineer</td>\n",
       "      <td>WCKD RZR</td>\n",
       "      <td>London</td>\n",
       "      <td>35,000 - 80,000</td>\n",
       "      <td>Are you a highly motivated Senior Software Eng...</td>\n",
       "      <td>35,000</td>\n",
       "    </tr>\n",
       "  </tbody>\n",
       "</table>\n",
       "</div>"
      ],
      "text/plain": [
       "   index                                          Job_title  \\\n",
       "0      2  Apprentice Radiotherapy Engineer (Clinical Tec...   \n",
       "1      4                          Machine Learning Engineer   \n",
       "2      6         Deep Learning Engineer (Signal Processing)   \n",
       "3     11  Senior Machine Learning Engineer / Machine Lea...   \n",
       "4     12                           Senior Software Engineer   \n",
       "\n",
       "                                        Company_name     Location  \\\n",
       "0  University Hospital Southampton NHS Foundation...  Southampton   \n",
       "1                                     Cyberlens Ltd.       London   \n",
       "2                                      Drone Defence      Retford   \n",
       "3                          Nucleome Therapeutics Ltd       Oxford   \n",
       "4                                           WCKD RZR       London   \n",
       "\n",
       "            Salary                                    Job_Description  \\\n",
       "0           18,369  This is an exciting opportunity to be an Appre...   \n",
       "1  45,000 - 53,000  Company: CyberLens Ltd (www.cyberlens.eu)\\nLoc...   \n",
       "2  25,000 - 35,000  Are you a Deep Learning Engineer experienced w...   \n",
       "3  35,000 - 58,000  Job description\\nWe are looking for machine le...   \n",
       "4  35,000 - 80,000  Are you a highly motivated Senior Software Eng...   \n",
       "\n",
       "  Salary_min  \n",
       "0     18,369  \n",
       "1    45,000   \n",
       "2    25,000   \n",
       "3    35,000   \n",
       "4    35,000   "
      ]
     },
     "execution_count": 266,
     "metadata": {},
     "output_type": "execute_result"
    }
   ],
   "source": [
    "df.head()"
   ]
  },
  {
   "cell_type": "code",
   "execution_count": 267,
   "metadata": {
    "scrolled": true
   },
   "outputs": [],
   "source": [
    "def salary_max(salary):\n",
    "    if '-' in salary.lower():\n",
    "        return salary.split('-')[1]\n",
    "    else:\n",
    "        return salary"
   ]
  },
  {
   "cell_type": "code",
   "execution_count": 268,
   "metadata": {},
   "outputs": [],
   "source": [
    "df['Salary_max']=df['Salary'].apply(salary_max)"
   ]
  },
  {
   "cell_type": "code",
   "execution_count": 269,
   "metadata": {},
   "outputs": [
    {
     "data": {
      "text/html": [
       "<div>\n",
       "<style scoped>\n",
       "    .dataframe tbody tr th:only-of-type {\n",
       "        vertical-align: middle;\n",
       "    }\n",
       "\n",
       "    .dataframe tbody tr th {\n",
       "        vertical-align: top;\n",
       "    }\n",
       "\n",
       "    .dataframe thead th {\n",
       "        text-align: right;\n",
       "    }\n",
       "</style>\n",
       "<table border=\"1\" class=\"dataframe\">\n",
       "  <thead>\n",
       "    <tr style=\"text-align: right;\">\n",
       "      <th></th>\n",
       "      <th>index</th>\n",
       "      <th>Job_title</th>\n",
       "      <th>Company_name</th>\n",
       "      <th>Location</th>\n",
       "      <th>Salary</th>\n",
       "      <th>Job_Description</th>\n",
       "      <th>Salary_min</th>\n",
       "      <th>Salary_max</th>\n",
       "    </tr>\n",
       "  </thead>\n",
       "  <tbody>\n",
       "    <tr>\n",
       "      <th>0</th>\n",
       "      <td>2</td>\n",
       "      <td>Apprentice Radiotherapy Engineer (Clinical Tec...</td>\n",
       "      <td>University Hospital Southampton NHS Foundation...</td>\n",
       "      <td>Southampton</td>\n",
       "      <td>18,369</td>\n",
       "      <td>This is an exciting opportunity to be an Appre...</td>\n",
       "      <td>18,369</td>\n",
       "      <td>18,369</td>\n",
       "    </tr>\n",
       "    <tr>\n",
       "      <th>1</th>\n",
       "      <td>4</td>\n",
       "      <td>Machine Learning Engineer</td>\n",
       "      <td>Cyberlens Ltd.</td>\n",
       "      <td>London</td>\n",
       "      <td>45,000 - 53,000</td>\n",
       "      <td>Company: CyberLens Ltd (www.cyberlens.eu)\\nLoc...</td>\n",
       "      <td>45,000</td>\n",
       "      <td>53,000</td>\n",
       "    </tr>\n",
       "    <tr>\n",
       "      <th>2</th>\n",
       "      <td>6</td>\n",
       "      <td>Deep Learning Engineer (Signal Processing)</td>\n",
       "      <td>Drone Defence</td>\n",
       "      <td>Retford</td>\n",
       "      <td>25,000 - 35,000</td>\n",
       "      <td>Are you a Deep Learning Engineer experienced w...</td>\n",
       "      <td>25,000</td>\n",
       "      <td>35,000</td>\n",
       "    </tr>\n",
       "    <tr>\n",
       "      <th>3</th>\n",
       "      <td>11</td>\n",
       "      <td>Senior Machine Learning Engineer / Machine Lea...</td>\n",
       "      <td>Nucleome Therapeutics Ltd</td>\n",
       "      <td>Oxford</td>\n",
       "      <td>35,000 - 58,000</td>\n",
       "      <td>Job description\\nWe are looking for machine le...</td>\n",
       "      <td>35,000</td>\n",
       "      <td>58,000</td>\n",
       "    </tr>\n",
       "    <tr>\n",
       "      <th>4</th>\n",
       "      <td>12</td>\n",
       "      <td>Senior Software Engineer</td>\n",
       "      <td>WCKD RZR</td>\n",
       "      <td>London</td>\n",
       "      <td>35,000 - 80,000</td>\n",
       "      <td>Are you a highly motivated Senior Software Eng...</td>\n",
       "      <td>35,000</td>\n",
       "      <td>80,000</td>\n",
       "    </tr>\n",
       "  </tbody>\n",
       "</table>\n",
       "</div>"
      ],
      "text/plain": [
       "   index                                          Job_title  \\\n",
       "0      2  Apprentice Radiotherapy Engineer (Clinical Tec...   \n",
       "1      4                          Machine Learning Engineer   \n",
       "2      6         Deep Learning Engineer (Signal Processing)   \n",
       "3     11  Senior Machine Learning Engineer / Machine Lea...   \n",
       "4     12                           Senior Software Engineer   \n",
       "\n",
       "                                        Company_name     Location  \\\n",
       "0  University Hospital Southampton NHS Foundation...  Southampton   \n",
       "1                                     Cyberlens Ltd.       London   \n",
       "2                                      Drone Defence      Retford   \n",
       "3                          Nucleome Therapeutics Ltd       Oxford   \n",
       "4                                           WCKD RZR       London   \n",
       "\n",
       "            Salary                                    Job_Description  \\\n",
       "0           18,369  This is an exciting opportunity to be an Appre...   \n",
       "1  45,000 - 53,000  Company: CyberLens Ltd (www.cyberlens.eu)\\nLoc...   \n",
       "2  25,000 - 35,000  Are you a Deep Learning Engineer experienced w...   \n",
       "3  35,000 - 58,000  Job description\\nWe are looking for machine le...   \n",
       "4  35,000 - 80,000  Are you a highly motivated Senior Software Eng...   \n",
       "\n",
       "  Salary_min Salary_max  \n",
       "0     18,369     18,369  \n",
       "1    45,000      53,000  \n",
       "2    25,000      35,000  \n",
       "3    35,000      58,000  \n",
       "4    35,000      80,000  "
      ]
     },
     "execution_count": 269,
     "metadata": {},
     "output_type": "execute_result"
    }
   ],
   "source": [
    "df.head()"
   ]
  },
  {
   "cell_type": "code",
   "execution_count": 272,
   "metadata": {},
   "outputs": [
    {
     "data": {
      "text/plain": [
       "index                                                            591\n",
       "Job_title                                          Big Data Engineer\n",
       "Company_name                                           Linux Recruit\n",
       "Location                                                      London\n",
       "Salary                                              550 - 650 a week\n",
       "Job_Description    We have a brand new requirement for a Big Data...\n",
       "Salary_min                                                      550 \n",
       "Salary_max                                                650 a week\n",
       "Name: 149, dtype: object"
      ]
     },
     "execution_count": 272,
     "metadata": {},
     "output_type": "execute_result"
    }
   ],
   "source": [
    "#one entry with weekly salary- multiply by 53 to get annual salary\n",
    "df.iloc[145]"
   ]
  },
  {
   "cell_type": "code",
   "execution_count": 273,
   "metadata": {},
   "outputs": [],
   "source": [
    "#change value for weekly salary (min)\n",
    "df.at[149, 'Salary_min']= 550*53"
   ]
  },
  {
   "cell_type": "code",
   "execution_count": 274,
   "metadata": {},
   "outputs": [],
   "source": [
    "#change value for weekly salary (max)\n",
    "def week_in_year(week):\n",
    "    if week ==  ' 650 a week':\n",
    "        return 650*53\n",
    "    else:\n",
    "        return week"
   ]
  },
  {
   "cell_type": "code",
   "execution_count": 275,
   "metadata": {},
   "outputs": [],
   "source": [
    "#apply value for weekly salary (max)\n",
    "df['Salary_max']=df['Salary_max'].apply(week_in_year)"
   ]
  },
  {
   "cell_type": "code",
   "execution_count": 276,
   "metadata": {},
   "outputs": [
    {
     "data": {
      "text/plain": [
       "index                                                            591\n",
       "Job_title                                          Big Data Engineer\n",
       "Company_name                                           Linux Recruit\n",
       "Location                                                      London\n",
       "Salary                                              550 - 650 a week\n",
       "Job_Description    We have a brand new requirement for a Big Data...\n",
       "Salary_min                                                     29150\n",
       "Salary_max                                                     34450\n",
       "Name: 149, dtype: object"
      ]
     },
     "execution_count": 276,
     "metadata": {},
     "output_type": "execute_result"
    }
   ],
   "source": [
    "df.iloc[145]"
   ]
  },
  {
   "cell_type": "code",
   "execution_count": 295,
   "metadata": {},
   "outputs": [],
   "source": [
    "# remove ,a d':\n",
    "# 'a d' means a day\n",
    "\n",
    "# we work with 220 working days in 2020 in england\n",
    "def remove_ad(ad):\n",
    "    if ' a d' in ad.lower():\n",
    "        return int(ad.strip(' a d'))*220\n",
    "    else:\n",
    "        return ad"
   ]
  },
  {
   "cell_type": "code",
   "execution_count": 297,
   "metadata": {},
   "outputs": [],
   "source": [
    "df['Salary_min']=df['Salary_min'].apply(remove_ad)\n",
    "df['Salary_max']=df['Salary_max'].apply(remove_ad)"
   ]
  },
  {
   "cell_type": "code",
   "execution_count": 292,
   "metadata": {},
   "outputs": [],
   "source": [
    "#modifying daily salaries\n",
    "#assuming that 2020 has 220 working days\n",
    "\n",
    "def modify_id(sal_min):\n",
    "    \n",
    "    if sal_min == '500':\n",
    "        return (int(sal_min) *220)\n",
    "    if sal_min == '425':\n",
    "        return (int(sal_min) *220)\n",
    "    if sal_min == '700':\n",
    "        return (int(sal_min) *220)\n",
    "    if sal_min == '650':\n",
    "        return (int(sal_min) *220)\n",
    "    if sal_min == '600':\n",
    "        return (int(sal_min) *220)\n",
    "    if sal_min == '450':\n",
    "        return (int(sal_min) *220)\n",
    "   \n",
    "    \n",
    "    else:\n",
    "        return sal_min"
   ]
  },
  {
   "cell_type": "code",
   "execution_count": 293,
   "metadata": {},
   "outputs": [],
   "source": [
    "df['Salary_min']=df['Salary_min'].apply(modify_id)"
   ]
  },
  {
   "cell_type": "code",
   "execution_count": 294,
   "metadata": {},
   "outputs": [],
   "source": [
    "#remove white spaces\n",
    "df['Salary_min']=df['Salary_min'].apply(lambda x: str(x).strip())"
   ]
  },
  {
   "cell_type": "code",
   "execution_count": 196,
   "metadata": {},
   "outputs": [
    {
     "data": {
      "text/html": [
       "<div>\n",
       "<style scoped>\n",
       "    .dataframe tbody tr th:only-of-type {\n",
       "        vertical-align: middle;\n",
       "    }\n",
       "\n",
       "    .dataframe tbody tr th {\n",
       "        vertical-align: top;\n",
       "    }\n",
       "\n",
       "    .dataframe thead th {\n",
       "        text-align: right;\n",
       "    }\n",
       "</style>\n",
       "<table border=\"1\" class=\"dataframe\">\n",
       "  <thead>\n",
       "    <tr style=\"text-align: right;\">\n",
       "      <th></th>\n",
       "      <th>index</th>\n",
       "      <th>Job_title</th>\n",
       "      <th>Company_name</th>\n",
       "      <th>Location</th>\n",
       "      <th>Salary</th>\n",
       "      <th>Job_Description</th>\n",
       "      <th>Salary_min</th>\n",
       "      <th>Salary_max</th>\n",
       "    </tr>\n",
       "  </thead>\n",
       "  <tbody>\n",
       "    <tr>\n",
       "      <th>0</th>\n",
       "      <td>2</td>\n",
       "      <td>Apprentice Radiotherapy Engineer (Clinical Tec...</td>\n",
       "      <td>University Hospital Southampton NHS Foundation...</td>\n",
       "      <td>Southampton</td>\n",
       "      <td>18,369</td>\n",
       "      <td>This is an exciting opportunity to be an Appre...</td>\n",
       "      <td>18,369</td>\n",
       "      <td>18,369</td>\n",
       "    </tr>\n",
       "    <tr>\n",
       "      <th>1</th>\n",
       "      <td>4</td>\n",
       "      <td>Machine Learning Engineer</td>\n",
       "      <td>Cyberlens Ltd.</td>\n",
       "      <td>London</td>\n",
       "      <td>45,000 - 53,000</td>\n",
       "      <td>Company: CyberLens Ltd (www.cyberlens.eu)\\nLoc...</td>\n",
       "      <td>45,000</td>\n",
       "      <td>53,000</td>\n",
       "    </tr>\n",
       "    <tr>\n",
       "      <th>2</th>\n",
       "      <td>6</td>\n",
       "      <td>Deep Learning Engineer (Signal Processing)</td>\n",
       "      <td>Drone Defence</td>\n",
       "      <td>Retford</td>\n",
       "      <td>25,000 - 35,000</td>\n",
       "      <td>Are you a Deep Learning Engineer experienced w...</td>\n",
       "      <td>25,000</td>\n",
       "      <td>35,000</td>\n",
       "    </tr>\n",
       "    <tr>\n",
       "      <th>3</th>\n",
       "      <td>11</td>\n",
       "      <td>Senior Machine Learning Engineer / Machine Lea...</td>\n",
       "      <td>Nucleome Therapeutics Ltd</td>\n",
       "      <td>Oxford</td>\n",
       "      <td>35,000 - 58,000</td>\n",
       "      <td>Job description\\nWe are looking for machine le...</td>\n",
       "      <td>35,000</td>\n",
       "      <td>58,000</td>\n",
       "    </tr>\n",
       "    <tr>\n",
       "      <th>4</th>\n",
       "      <td>12</td>\n",
       "      <td>Senior Software Engineer</td>\n",
       "      <td>WCKD RZR</td>\n",
       "      <td>London</td>\n",
       "      <td>35,000 - 80,000</td>\n",
       "      <td>Are you a highly motivated Senior Software Eng...</td>\n",
       "      <td>35,000</td>\n",
       "      <td>80,000</td>\n",
       "    </tr>\n",
       "  </tbody>\n",
       "</table>\n",
       "</div>"
      ],
      "text/plain": [
       "   index                                          Job_title  \\\n",
       "0      2  Apprentice Radiotherapy Engineer (Clinical Tec...   \n",
       "1      4                          Machine Learning Engineer   \n",
       "2      6         Deep Learning Engineer (Signal Processing)   \n",
       "3     11  Senior Machine Learning Engineer / Machine Lea...   \n",
       "4     12                           Senior Software Engineer   \n",
       "\n",
       "                                        Company_name     Location  \\\n",
       "0  University Hospital Southampton NHS Foundation...  Southampton   \n",
       "1                                     Cyberlens Ltd.       London   \n",
       "2                                      Drone Defence      Retford   \n",
       "3                          Nucleome Therapeutics Ltd       Oxford   \n",
       "4                                           WCKD RZR       London   \n",
       "\n",
       "            Salary                                    Job_Description  \\\n",
       "0           18,369  This is an exciting opportunity to be an Appre...   \n",
       "1  45,000 - 53,000  Company: CyberLens Ltd (www.cyberlens.eu)\\nLoc...   \n",
       "2  25,000 - 35,000  Are you a Deep Learning Engineer experienced w...   \n",
       "3  35,000 - 58,000  Job description\\nWe are looking for machine le...   \n",
       "4  35,000 - 80,000  Are you a highly motivated Senior Software Eng...   \n",
       "\n",
       "  Salary_min Salary_max  \n",
       "0     18,369     18,369  \n",
       "1     45,000     53,000  \n",
       "2     25,000     35,000  \n",
       "3     35,000     58,000  \n",
       "4     35,000     80,000  "
      ]
     },
     "execution_count": 196,
     "metadata": {},
     "output_type": "execute_result"
    }
   ],
   "source": [
    "df.head()"
   ]
  },
  {
   "cell_type": "code",
   "execution_count": 111,
   "metadata": {},
   "outputs": [],
   "source": [
    "# to string\n",
    "df['Salary_min']=df['Salary_min'].apply(str)"
   ]
  },
  {
   "cell_type": "code",
   "execution_count": 112,
   "metadata": {},
   "outputs": [],
   "source": [
    "# to string\n",
    "df['Salary_max']=df['Salary_max'].apply(str)"
   ]
  },
  {
   "cell_type": "code",
   "execution_count": 114,
   "metadata": {},
   "outputs": [],
   "source": [
    "#remove underscore\n",
    "def remove_underscore(x):\n",
    "    for i in x:\n",
    "        if ',' in x:\n",
    "            return x.replace(',','')\n",
    "        else:\n",
    "            return x"
   ]
  },
  {
   "cell_type": "code",
   "execution_count": 115,
   "metadata": {},
   "outputs": [],
   "source": [
    "df['Salary_max']=df['Salary_max'].apply(remove_underscore)"
   ]
  },
  {
   "cell_type": "code",
   "execution_count": 116,
   "metadata": {},
   "outputs": [],
   "source": [
    "df['Salary_min']=df['Salary_min'].apply(remove_underscore)"
   ]
  },
  {
   "cell_type": "code",
   "execution_count": 118,
   "metadata": {},
   "outputs": [],
   "source": [
    "# remove spaces\n",
    "def remove_spaces(x):\n",
    "    if ' ' in x:\n",
    "        return x.replace(' ', '')\n",
    "    else:\n",
    "        return x"
   ]
  },
  {
   "cell_type": "code",
   "execution_count": 119,
   "metadata": {},
   "outputs": [],
   "source": [
    "df['Salary_max']=df['Salary_max'].apply(remove_spaces)"
   ]
  },
  {
   "cell_type": "code",
   "execution_count": 120,
   "metadata": {},
   "outputs": [],
   "source": [
    "df['Salary_min']=df['Salary_min'].apply(remove_spaces)"
   ]
  },
  {
   "cell_type": "code",
   "execution_count": 302,
   "metadata": {},
   "outputs": [],
   "source": [
    "# convert string to int\n",
    "df['Salary_max']=df['Salary_max'].astype(int)"
   ]
  },
  {
   "cell_type": "code",
   "execution_count": 303,
   "metadata": {},
   "outputs": [],
   "source": [
    "# convert string to int\n",
    "df['Salary_min']=df['Salary_min'].astype(int)"
   ]
  },
  {
   "cell_type": "code",
   "execution_count": 304,
   "metadata": {},
   "outputs": [],
   "source": [
    "# calculate mean salary \n",
    "df['Salary_Average in £']= ((df['Salary_max']+df['Salary_min'])/2)"
   ]
  },
  {
   "cell_type": "code",
   "execution_count": 744,
   "metadata": {},
   "outputs": [],
   "source": [
    "#calculate $ (# exchange rate: 1£ == 1.27 $ )\n",
    "df['Salary_Average in $'] = df['Salary_Average in £']*1.27"
   ]
  },
  {
   "cell_type": "code",
   "execution_count": 745,
   "metadata": {},
   "outputs": [
    {
     "data": {
      "text/html": [
       "<div>\n",
       "<style scoped>\n",
       "    .dataframe tbody tr th:only-of-type {\n",
       "        vertical-align: middle;\n",
       "    }\n",
       "\n",
       "    .dataframe tbody tr th {\n",
       "        vertical-align: top;\n",
       "    }\n",
       "\n",
       "    .dataframe thead th {\n",
       "        text-align: right;\n",
       "    }\n",
       "</style>\n",
       "<table border=\"1\" class=\"dataframe\">\n",
       "  <thead>\n",
       "    <tr style=\"text-align: right;\">\n",
       "      <th></th>\n",
       "      <th>Job_title</th>\n",
       "      <th>Company_name</th>\n",
       "      <th>Location</th>\n",
       "      <th>Salary</th>\n",
       "      <th>Job_Description</th>\n",
       "      <th>Salary_min</th>\n",
       "      <th>Salary_max</th>\n",
       "      <th>Salary_Average</th>\n",
       "      <th>Salary_Average in £</th>\n",
       "      <th>Salary_Average in $</th>\n",
       "    </tr>\n",
       "  </thead>\n",
       "  <tbody>\n",
       "    <tr>\n",
       "      <th>0</th>\n",
       "      <td>Apprentice Radiotherapy Engineer (Clinical Tec...</td>\n",
       "      <td>University Hospital Southampton NHS Foundation...</td>\n",
       "      <td>Southampton</td>\n",
       "      <td>18,369</td>\n",
       "      <td>This is an exciting opportunity to be an Appre...</td>\n",
       "      <td>18369</td>\n",
       "      <td>18369</td>\n",
       "      <td>18369.0</td>\n",
       "      <td>18369.0</td>\n",
       "      <td>23328.63</td>\n",
       "    </tr>\n",
       "    <tr>\n",
       "      <th>1</th>\n",
       "      <td>Machine Learning Engineer</td>\n",
       "      <td>Cyberlens Ltd.</td>\n",
       "      <td>London</td>\n",
       "      <td>45,000 - 53,000</td>\n",
       "      <td>Company: CyberLens Ltd (www.cyberlens.eu)\\nLoc...</td>\n",
       "      <td>45000</td>\n",
       "      <td>53000</td>\n",
       "      <td>49000.0</td>\n",
       "      <td>49000.0</td>\n",
       "      <td>62230.00</td>\n",
       "    </tr>\n",
       "    <tr>\n",
       "      <th>2</th>\n",
       "      <td>Deep Learning Engineer (Signal Processing)</td>\n",
       "      <td>Drone Defence</td>\n",
       "      <td>Retford</td>\n",
       "      <td>25,000 - 35,000</td>\n",
       "      <td>Are you a Deep Learning Engineer experienced w...</td>\n",
       "      <td>25000</td>\n",
       "      <td>35000</td>\n",
       "      <td>30000.0</td>\n",
       "      <td>30000.0</td>\n",
       "      <td>38100.00</td>\n",
       "    </tr>\n",
       "    <tr>\n",
       "      <th>3</th>\n",
       "      <td>Senior Machine Learning Engineer / Machine Lea...</td>\n",
       "      <td>Nucleome Therapeutics Ltd</td>\n",
       "      <td>Oxford</td>\n",
       "      <td>35,000 - 58,000</td>\n",
       "      <td>Job description\\nWe are looking for machine le...</td>\n",
       "      <td>35000</td>\n",
       "      <td>58000</td>\n",
       "      <td>46500.0</td>\n",
       "      <td>46500.0</td>\n",
       "      <td>59055.00</td>\n",
       "    </tr>\n",
       "    <tr>\n",
       "      <th>4</th>\n",
       "      <td>Senior Software Engineer</td>\n",
       "      <td>WCKD RZR</td>\n",
       "      <td>London</td>\n",
       "      <td>35,000 - 80,000</td>\n",
       "      <td>Are you a highly motivated Senior Software Eng...</td>\n",
       "      <td>35000</td>\n",
       "      <td>80000</td>\n",
       "      <td>57500.0</td>\n",
       "      <td>57500.0</td>\n",
       "      <td>73025.00</td>\n",
       "    </tr>\n",
       "  </tbody>\n",
       "</table>\n",
       "</div>"
      ],
      "text/plain": [
       "                                           Job_title  \\\n",
       "0  Apprentice Radiotherapy Engineer (Clinical Tec...   \n",
       "1                          Machine Learning Engineer   \n",
       "2         Deep Learning Engineer (Signal Processing)   \n",
       "3  Senior Machine Learning Engineer / Machine Lea...   \n",
       "4                           Senior Software Engineer   \n",
       "\n",
       "                                        Company_name     Location  \\\n",
       "0  University Hospital Southampton NHS Foundation...  Southampton   \n",
       "1                                     Cyberlens Ltd.       London   \n",
       "2                                      Drone Defence      Retford   \n",
       "3                          Nucleome Therapeutics Ltd       Oxford   \n",
       "4                                           WCKD RZR       London   \n",
       "\n",
       "            Salary                                    Job_Description  \\\n",
       "0           18,369  This is an exciting opportunity to be an Appre...   \n",
       "1  45,000 - 53,000  Company: CyberLens Ltd (www.cyberlens.eu)\\nLoc...   \n",
       "2  25,000 - 35,000  Are you a Deep Learning Engineer experienced w...   \n",
       "3  35,000 - 58,000  Job description\\nWe are looking for machine le...   \n",
       "4  35,000 - 80,000  Are you a highly motivated Senior Software Eng...   \n",
       "\n",
       "   Salary_min  Salary_max  Salary_Average  Salary_Average in £  \\\n",
       "0       18369       18369         18369.0              18369.0   \n",
       "1       45000       53000         49000.0              49000.0   \n",
       "2       25000       35000         30000.0              30000.0   \n",
       "3       35000       58000         46500.0              46500.0   \n",
       "4       35000       80000         57500.0              57500.0   \n",
       "\n",
       "   Salary_Average in $  \n",
       "0             23328.63  \n",
       "1             62230.00  \n",
       "2             38100.00  \n",
       "3             59055.00  \n",
       "4             73025.00  "
      ]
     },
     "execution_count": 745,
     "metadata": {},
     "output_type": "execute_result"
    }
   ],
   "source": [
    "#salary cleaning done!\n",
    "df.head()"
   ]
  },
  {
   "cell_type": "markdown",
   "metadata": {},
   "source": [
    "### Skillset Screening"
   ]
  },
  {
   "cell_type": "raw",
   "metadata": {},
   "source": [
    "In the next step we concentrate on the required skillset by scanning the job description.\n",
    "The focus will be on the following topics:\n",
    "(Python, R, Java, AWS, Hadoop, SQL, Spark, Matlab, Tensorflow, NLP).\n",
    "For that, we use Pythons lambda function. If the mentioned skillset appears in the job description, we get a '1', otherwise we get a '0'!\n"
   ]
  },
  {
   "cell_type": "code",
   "execution_count": 756,
   "metadata": {},
   "outputs": [
    {
     "data": {
      "text/plain": [
       "Index(['Job_title', 'Company_name', 'Location', 'Salary', 'Job_Description',\n",
       "       'Salary_min', 'Salary_max', 'Salary_Average', 'Salary_Average in £',\n",
       "       'Salary_Average in $', 'Python-Skills'],\n",
       "      dtype='object')"
      ]
     },
     "execution_count": 756,
     "metadata": {},
     "output_type": "execute_result"
    }
   ],
   "source": [
    "df.columns"
   ]
  },
  {
   "cell_type": "code",
   "execution_count": 789,
   "metadata": {},
   "outputs": [],
   "source": [
    "df['Python_Skills']=df['Job_Description'].apply(lambda x: 1 if 'python' in x.lower() else 0)"
   ]
  },
  {
   "cell_type": "code",
   "execution_count": 761,
   "metadata": {},
   "outputs": [],
   "source": [
    "df['R_Skills']=df['Job_Description'].apply(lambda x: 1 if 'r-studio' in x.lower() or 'r-programming' in x.lower() or 'r studio' in x.lower() or 'r programming' in x.lower() else 0)"
   ]
  },
  {
   "cell_type": "code",
   "execution_count": 762,
   "metadata": {},
   "outputs": [],
   "source": [
    "df['Java_Skills']=df['Job_Description'].apply(lambda x: 1 if 'java' in x.lower() else 0)"
   ]
  },
  {
   "cell_type": "code",
   "execution_count": null,
   "metadata": {},
   "outputs": [],
   "source": [
    "df['AWS_Skills']=df['Job_Description'].apply(lambda x: 1 if 'aws' in x.lower() else 0)"
   ]
  },
  {
   "cell_type": "code",
   "execution_count": null,
   "metadata": {},
   "outputs": [],
   "source": [
    "df['Hadoop_Skills']=df['Job_Description'].apply(lambda x: 1 if 'hadoop' in x.lower() else 0)"
   ]
  },
  {
   "cell_type": "code",
   "execution_count": 763,
   "metadata": {},
   "outputs": [],
   "source": [
    "df['SQL_Skills']=df['Job_Description'].apply(lambda x: 1 if 'sql' in x.lower() or 'sequel' in x.lower() else 0)"
   ]
  },
  {
   "cell_type": "code",
   "execution_count": 764,
   "metadata": {},
   "outputs": [],
   "source": [
    "df['Spark_Skills']=df['Job_Description'].apply(lambda x: 1 if 'spark' in x.lower() else 0)"
   ]
  },
  {
   "cell_type": "code",
   "execution_count": 765,
   "metadata": {},
   "outputs": [],
   "source": [
    "df['Matlab_Skills']=df['Job_Description'].apply(lambda x: 1 if 'matlab' in x.lower() else 0)"
   ]
  },
  {
   "cell_type": "code",
   "execution_count": 766,
   "metadata": {},
   "outputs": [],
   "source": [
    "df['Tensorflow_Skills']=df['Job_Description'].apply(lambda x: 1 if 'tensor' in x.lower() else 0)"
   ]
  },
  {
   "cell_type": "code",
   "execution_count": 767,
   "metadata": {},
   "outputs": [],
   "source": [
    "df['NLP_Skills']=df['Job_Description'].apply(lambda x: 1 if 'nlp' in x.lower() else 0)"
   ]
  },
  {
   "cell_type": "code",
   "execution_count": 768,
   "metadata": {},
   "outputs": [
    {
     "data": {
      "text/html": [
       "<div>\n",
       "<style scoped>\n",
       "    .dataframe tbody tr th:only-of-type {\n",
       "        vertical-align: middle;\n",
       "    }\n",
       "\n",
       "    .dataframe tbody tr th {\n",
       "        vertical-align: top;\n",
       "    }\n",
       "\n",
       "    .dataframe thead th {\n",
       "        text-align: right;\n",
       "    }\n",
       "</style>\n",
       "<table border=\"1\" class=\"dataframe\">\n",
       "  <thead>\n",
       "    <tr style=\"text-align: right;\">\n",
       "      <th></th>\n",
       "      <th>Job_title</th>\n",
       "      <th>Company_name</th>\n",
       "      <th>Location</th>\n",
       "      <th>Salary</th>\n",
       "      <th>Job_Description</th>\n",
       "      <th>Salary_min</th>\n",
       "      <th>Salary_max</th>\n",
       "      <th>Salary_Average</th>\n",
       "      <th>Salary_Average in £</th>\n",
       "      <th>Salary_Average in $</th>\n",
       "      <th>Python-Skills</th>\n",
       "      <th>Python_Skills</th>\n",
       "      <th>R_Skills</th>\n",
       "      <th>Java_Skills</th>\n",
       "      <th>SQL_Skills</th>\n",
       "      <th>Spark_Skills</th>\n",
       "      <th>Matlab_Skills</th>\n",
       "      <th>Tensorflow_Skills</th>\n",
       "      <th>NLP_Skills</th>\n",
       "    </tr>\n",
       "  </thead>\n",
       "  <tbody>\n",
       "    <tr>\n",
       "      <th>0</th>\n",
       "      <td>Apprentice Radiotherapy Engineer (Clinical Tec...</td>\n",
       "      <td>University Hospital Southampton NHS Foundation...</td>\n",
       "      <td>Southampton</td>\n",
       "      <td>18,369</td>\n",
       "      <td>This is an exciting opportunity to be an Appre...</td>\n",
       "      <td>18369</td>\n",
       "      <td>18369</td>\n",
       "      <td>18369.0</td>\n",
       "      <td>18369.0</td>\n",
       "      <td>23328.63</td>\n",
       "      <td>0</td>\n",
       "      <td>0</td>\n",
       "      <td>0</td>\n",
       "      <td>0</td>\n",
       "      <td>0</td>\n",
       "      <td>0</td>\n",
       "      <td>0</td>\n",
       "      <td>0</td>\n",
       "      <td>0</td>\n",
       "    </tr>\n",
       "    <tr>\n",
       "      <th>1</th>\n",
       "      <td>Machine Learning Engineer</td>\n",
       "      <td>Cyberlens Ltd.</td>\n",
       "      <td>London</td>\n",
       "      <td>45,000 - 53,000</td>\n",
       "      <td>Company: CyberLens Ltd (www.cyberlens.eu)\\nLoc...</td>\n",
       "      <td>45000</td>\n",
       "      <td>53000</td>\n",
       "      <td>49000.0</td>\n",
       "      <td>49000.0</td>\n",
       "      <td>62230.00</td>\n",
       "      <td>1</td>\n",
       "      <td>1</td>\n",
       "      <td>0</td>\n",
       "      <td>0</td>\n",
       "      <td>0</td>\n",
       "      <td>0</td>\n",
       "      <td>0</td>\n",
       "      <td>1</td>\n",
       "      <td>0</td>\n",
       "    </tr>\n",
       "    <tr>\n",
       "      <th>2</th>\n",
       "      <td>Deep Learning Engineer (Signal Processing)</td>\n",
       "      <td>Drone Defence</td>\n",
       "      <td>Retford</td>\n",
       "      <td>25,000 - 35,000</td>\n",
       "      <td>Are you a Deep Learning Engineer experienced w...</td>\n",
       "      <td>25000</td>\n",
       "      <td>35000</td>\n",
       "      <td>30000.0</td>\n",
       "      <td>30000.0</td>\n",
       "      <td>38100.00</td>\n",
       "      <td>1</td>\n",
       "      <td>1</td>\n",
       "      <td>0</td>\n",
       "      <td>0</td>\n",
       "      <td>0</td>\n",
       "      <td>0</td>\n",
       "      <td>0</td>\n",
       "      <td>1</td>\n",
       "      <td>0</td>\n",
       "    </tr>\n",
       "    <tr>\n",
       "      <th>3</th>\n",
       "      <td>Senior Machine Learning Engineer / Machine Lea...</td>\n",
       "      <td>Nucleome Therapeutics Ltd</td>\n",
       "      <td>Oxford</td>\n",
       "      <td>35,000 - 58,000</td>\n",
       "      <td>Job description\\nWe are looking for machine le...</td>\n",
       "      <td>35000</td>\n",
       "      <td>58000</td>\n",
       "      <td>46500.0</td>\n",
       "      <td>46500.0</td>\n",
       "      <td>59055.00</td>\n",
       "      <td>1</td>\n",
       "      <td>1</td>\n",
       "      <td>0</td>\n",
       "      <td>0</td>\n",
       "      <td>0</td>\n",
       "      <td>0</td>\n",
       "      <td>0</td>\n",
       "      <td>1</td>\n",
       "      <td>0</td>\n",
       "    </tr>\n",
       "    <tr>\n",
       "      <th>4</th>\n",
       "      <td>Senior Software Engineer</td>\n",
       "      <td>WCKD RZR</td>\n",
       "      <td>London</td>\n",
       "      <td>35,000 - 80,000</td>\n",
       "      <td>Are you a highly motivated Senior Software Eng...</td>\n",
       "      <td>35000</td>\n",
       "      <td>80000</td>\n",
       "      <td>57500.0</td>\n",
       "      <td>57500.0</td>\n",
       "      <td>73025.00</td>\n",
       "      <td>0</td>\n",
       "      <td>0</td>\n",
       "      <td>0</td>\n",
       "      <td>1</td>\n",
       "      <td>0</td>\n",
       "      <td>0</td>\n",
       "      <td>0</td>\n",
       "      <td>0</td>\n",
       "      <td>0</td>\n",
       "    </tr>\n",
       "  </tbody>\n",
       "</table>\n",
       "</div>"
      ],
      "text/plain": [
       "                                           Job_title  \\\n",
       "0  Apprentice Radiotherapy Engineer (Clinical Tec...   \n",
       "1                          Machine Learning Engineer   \n",
       "2         Deep Learning Engineer (Signal Processing)   \n",
       "3  Senior Machine Learning Engineer / Machine Lea...   \n",
       "4                           Senior Software Engineer   \n",
       "\n",
       "                                        Company_name     Location  \\\n",
       "0  University Hospital Southampton NHS Foundation...  Southampton   \n",
       "1                                     Cyberlens Ltd.       London   \n",
       "2                                      Drone Defence      Retford   \n",
       "3                          Nucleome Therapeutics Ltd       Oxford   \n",
       "4                                           WCKD RZR       London   \n",
       "\n",
       "            Salary                                    Job_Description  \\\n",
       "0           18,369  This is an exciting opportunity to be an Appre...   \n",
       "1  45,000 - 53,000  Company: CyberLens Ltd (www.cyberlens.eu)\\nLoc...   \n",
       "2  25,000 - 35,000  Are you a Deep Learning Engineer experienced w...   \n",
       "3  35,000 - 58,000  Job description\\nWe are looking for machine le...   \n",
       "4  35,000 - 80,000  Are you a highly motivated Senior Software Eng...   \n",
       "\n",
       "   Salary_min  Salary_max  Salary_Average  Salary_Average in £  \\\n",
       "0       18369       18369         18369.0              18369.0   \n",
       "1       45000       53000         49000.0              49000.0   \n",
       "2       25000       35000         30000.0              30000.0   \n",
       "3       35000       58000         46500.0              46500.0   \n",
       "4       35000       80000         57500.0              57500.0   \n",
       "\n",
       "   Salary_Average in $  Python-Skills  Python_Skills  R_Skills  Java_Skills  \\\n",
       "0             23328.63              0              0         0            0   \n",
       "1             62230.00              1              1         0            0   \n",
       "2             38100.00              1              1         0            0   \n",
       "3             59055.00              1              1         0            0   \n",
       "4             73025.00              0              0         0            1   \n",
       "\n",
       "   SQL_Skills  Spark_Skills  Matlab_Skills  Tensorflow_Skills  NLP_Skills  \n",
       "0           0             0              0                  0           0  \n",
       "1           0             0              0                  1           0  \n",
       "2           0             0              0                  1           0  \n",
       "3           0             0              0                  1           0  \n",
       "4           0             0              0                  0           0  "
      ]
     },
     "execution_count": 768,
     "metadata": {},
     "output_type": "execute_result"
    }
   ],
   "source": [
    "df.head()"
   ]
  },
  {
   "cell_type": "code",
   "execution_count": 778,
   "metadata": {},
   "outputs": [
    {
     "data": {
      "text/plain": [
       "1    123\n",
       "0     84\n",
       "Name: Python-Skills, dtype: int64"
      ]
     },
     "execution_count": 778,
     "metadata": {},
     "output_type": "execute_result"
    }
   ],
   "source": [
    "df['Python-Skills'].value_counts()"
   ]
  },
  {
   "cell_type": "code",
   "execution_count": 774,
   "metadata": {},
   "outputs": [
    {
     "data": {
      "text/plain": [
       "0    202\n",
       "1      5\n",
       "Name: R_Skills, dtype: int64"
      ]
     },
     "execution_count": 774,
     "metadata": {},
     "output_type": "execute_result"
    }
   ],
   "source": [
    "df['R_Skills'].value_counts()"
   ]
  },
  {
   "cell_type": "code",
   "execution_count": 786,
   "metadata": {},
   "outputs": [
    {
     "data": {
      "text/plain": [
       "Linux Recruit                         25\n",
       "Harnham                               21\n",
       "Oho Group                             11\n",
       "Understanding Recruitment             10\n",
       "Venturi                                9\n",
       "                                      ..\n",
       "Synaptek                               1\n",
       "Spring                                 1\n",
       "Manchester Metropolitan University     1\n",
       "Sentinel                               1\n",
       "ADR Markets                            1\n",
       "Name: Company_name, Length: 86, dtype: int64"
      ]
     },
     "execution_count": 786,
     "metadata": {},
     "output_type": "execute_result"
    }
   ],
   "source": [
    "df['Company_name'].value_counts()"
   ]
  },
  {
   "cell_type": "code",
   "execution_count": 793,
   "metadata": {},
   "outputs": [],
   "source": [
    "df.drop(('Salary_Average in £'), axis=1, inplace=True)"
   ]
  },
  {
   "cell_type": "code",
   "execution_count": 795,
   "metadata": {},
   "outputs": [
    {
     "data": {
      "text/html": [
       "<div>\n",
       "<style scoped>\n",
       "    .dataframe tbody tr th:only-of-type {\n",
       "        vertical-align: middle;\n",
       "    }\n",
       "\n",
       "    .dataframe tbody tr th {\n",
       "        vertical-align: top;\n",
       "    }\n",
       "\n",
       "    .dataframe thead th {\n",
       "        text-align: right;\n",
       "    }\n",
       "</style>\n",
       "<table border=\"1\" class=\"dataframe\">\n",
       "  <thead>\n",
       "    <tr style=\"text-align: right;\">\n",
       "      <th></th>\n",
       "      <th>Job_title</th>\n",
       "      <th>Company_name</th>\n",
       "      <th>Location</th>\n",
       "      <th>Job_Description</th>\n",
       "      <th>Salary_Average in $</th>\n",
       "      <th>R_Skills</th>\n",
       "      <th>Java_Skills</th>\n",
       "      <th>SQL_Skills</th>\n",
       "      <th>Spark_Skills</th>\n",
       "      <th>Matlab_Skills</th>\n",
       "      <th>Tensorflow_Skills</th>\n",
       "      <th>NLP_Skills</th>\n",
       "      <th>Python_Skills</th>\n",
       "    </tr>\n",
       "  </thead>\n",
       "  <tbody>\n",
       "    <tr>\n",
       "      <th>0</th>\n",
       "      <td>Apprentice Radiotherapy Engineer (Clinical Tec...</td>\n",
       "      <td>University Hospital Southampton NHS Foundation...</td>\n",
       "      <td>Southampton</td>\n",
       "      <td>This is an exciting opportunity to be an Appre...</td>\n",
       "      <td>23328.63</td>\n",
       "      <td>0</td>\n",
       "      <td>0</td>\n",
       "      <td>0</td>\n",
       "      <td>0</td>\n",
       "      <td>0</td>\n",
       "      <td>0</td>\n",
       "      <td>0</td>\n",
       "      <td>0</td>\n",
       "    </tr>\n",
       "  </tbody>\n",
       "</table>\n",
       "</div>"
      ],
      "text/plain": [
       "                                           Job_title  \\\n",
       "0  Apprentice Radiotherapy Engineer (Clinical Tec...   \n",
       "\n",
       "                                        Company_name     Location  \\\n",
       "0  University Hospital Southampton NHS Foundation...  Southampton   \n",
       "\n",
       "                                     Job_Description  Salary_Average in $  \\\n",
       "0  This is an exciting opportunity to be an Appre...             23328.63   \n",
       "\n",
       "   R_Skills  Java_Skills  SQL_Skills  Spark_Skills  Matlab_Skills  \\\n",
       "0         0            0           0             0              0   \n",
       "\n",
       "   Tensorflow_Skills  NLP_Skills  Python_Skills  \n",
       "0                  0           0              0  "
      ]
     },
     "execution_count": 795,
     "metadata": {},
     "output_type": "execute_result"
    }
   ],
   "source": [
    "df.head(1)"
   ]
  },
  {
   "cell_type": "code",
   "execution_count": 799,
   "metadata": {},
   "outputs": [],
   "source": [
    "df.to_csv('Modified_Dataset.csv')"
   ]
  },
  {
   "cell_type": "code",
   "execution_count": null,
   "metadata": {},
   "outputs": [],
   "source": []
  }
 ],
 "metadata": {
  "kernelspec": {
   "display_name": "Python 3",
   "language": "python",
   "name": "python3"
  },
  "language_info": {
   "codemirror_mode": {
    "name": "ipython",
    "version": 3
   },
   "file_extension": ".py",
   "mimetype": "text/x-python",
   "name": "python",
   "nbconvert_exporter": "python",
   "pygments_lexer": "ipython3",
   "version": "3.8.1"
  }
 },
 "nbformat": 4,
 "nbformat_minor": 4
}
